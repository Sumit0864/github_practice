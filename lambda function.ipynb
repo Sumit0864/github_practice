{
 "cells": [
  {
   "cell_type": "markdown",
   "id": "c660b13c",
   "metadata": {},
   "source": [
    "# lambda function"
   ]
  },
  {
   "cell_type": "code",
   "execution_count": 2,
   "id": "9176d5df",
   "metadata": {},
   "outputs": [
    {
     "data": {
      "text/plain": [
       "20"
      ]
     },
     "execution_count": 2,
     "metadata": {},
     "output_type": "execute_result"
    }
   ],
   "source": [
    "#- Lambda functions is also a kind of functions represenatation\n",
    "#- More efficient way\n",
    "def summ(num):\n",
    "    return(num+10)\n",
    "summ(10)\n",
    "# The function name is summ\n",
    "# the variable name is num\n",
    "# the return output is num+10"
   ]
  },
  {
   "cell_type": "code",
   "execution_count": null,
   "id": "9e0f8f69",
   "metadata": {},
   "outputs": [],
   "source": [
    "<function_name>=lambda <variable_name>:<return output>"
   ]
  },
  {
   "cell_type": "code",
   "execution_count": 4,
   "id": "a35546d8",
   "metadata": {},
   "outputs": [
    {
     "data": {
      "text/plain": [
       "20"
      ]
     },
     "execution_count": 4,
     "metadata": {},
     "output_type": "execute_result"
    }
   ],
   "source": [
    "sunn=lambda num :num+10\n",
    "sunn(10)"
   ]
  },
  {
   "cell_type": "code",
   "execution_count": 5,
   "id": "26d826b7",
   "metadata": {},
   "outputs": [
    {
     "data": {
      "text/plain": [
       "1000"
      ]
     },
     "execution_count": 5,
     "metadata": {},
     "output_type": "execute_result"
    }
   ],
   "source": [
    "def cube(num):\n",
    "    return(num*num*num)\n",
    "cube(10)"
   ]
  },
  {
   "cell_type": "code",
   "execution_count": 6,
   "id": "0f920096",
   "metadata": {},
   "outputs": [
    {
     "data": {
      "text/plain": [
       "1000"
      ]
     },
     "execution_count": 6,
     "metadata": {},
     "output_type": "execute_result"
    }
   ],
   "source": [
    "cube=lambda num:num*num*num\n",
    "cube(10)"
   ]
  },
  {
   "cell_type": "markdown",
   "id": "ec530ce9",
   "metadata": {},
   "source": [
    "## two arguements"
   ]
  },
  {
   "cell_type": "code",
   "execution_count": 7,
   "id": "74347bf8",
   "metadata": {},
   "outputs": [
    {
     "data": {
      "text/plain": [
       "300"
      ]
     },
     "execution_count": 7,
     "metadata": {},
     "output_type": "execute_result"
    }
   ],
   "source": [
    "def add(n1,n2):\n",
    "    return(n1+n2)\n",
    "add(100,200)"
   ]
  },
  {
   "cell_type": "code",
   "execution_count": null,
   "id": "4b6ace24",
   "metadata": {},
   "outputs": [],
   "source": [
    "<function_name>=lambda <var1>,<var2>:<return output>\n"
   ]
  },
  {
   "cell_type": "code",
   "execution_count": 8,
   "id": "da000b4c",
   "metadata": {},
   "outputs": [
    {
     "data": {
      "text/plain": [
       "30"
      ]
     },
     "execution_count": 8,
     "metadata": {},
     "output_type": "execute_result"
    }
   ],
   "source": [
    "add=lambda n1,n2 : n1+n2\n",
    "add(10,20)"
   ]
  },
  {
   "cell_type": "code",
   "execution_count": 9,
   "id": "1edf3e08",
   "metadata": {},
   "outputs": [
    {
     "data": {
      "text/plain": [
       "200"
      ]
     },
     "execution_count": 9,
     "metadata": {},
     "output_type": "execute_result"
    }
   ],
   "source": [
    "mul=lambda n1,n2 :n1*n2\n",
    "mul(10,20)"
   ]
  },
  {
   "cell_type": "code",
   "execution_count": 10,
   "id": "ee574d1b",
   "metadata": {},
   "outputs": [
    {
     "data": {
      "text/plain": [
       "200.0"
      ]
     },
     "execution_count": 10,
     "metadata": {},
     "output_type": "execute_result"
    }
   ],
   "source": [
    "def avg(n1,n2,n3):\n",
    "    return((n1+n2+n3)/3)\n",
    "avg(100,200,300)"
   ]
  },
  {
   "cell_type": "code",
   "execution_count": 11,
   "id": "2a440dc2",
   "metadata": {},
   "outputs": [
    {
     "data": {
      "text/plain": [
       "20.0"
      ]
     },
     "execution_count": 11,
     "metadata": {},
     "output_type": "execute_result"
    }
   ],
   "source": [
    "avg=lambda n1,n2,n3 :(n1+n2+n3)/3\n",
    "avg(10,20,30)"
   ]
  },
  {
   "cell_type": "markdown",
   "id": "c5919e2b",
   "metadata": {},
   "source": [
    "# if else"
   ]
  },
  {
   "cell_type": "code",
   "execution_count": 13,
   "id": "80cc72f2",
   "metadata": {},
   "outputs": [
    {
     "data": {
      "text/plain": [
       "200"
      ]
     },
     "execution_count": 13,
     "metadata": {},
     "output_type": "execute_result"
    }
   ],
   "source": [
    "def Max(n1,n2):\n",
    "    if n1>n2:\n",
    "        return(n1)\n",
    "    else:\n",
    "        return(n2)\n",
    "Max(100,200)"
   ]
  },
  {
   "cell_type": "code",
   "execution_count": null,
   "id": "b291c5e1",
   "metadata": {},
   "outputs": [],
   "source": [
    "Max(100,200)\n",
    "\n",
    "lambda <v1,v2,v3...>: <output>\n",
    "if -else we need to write in a single\n",
    "[<if_output> <if_con> else <else_ouput>]\n",
    "\n",
    "<function_name>=lambda <var1,var2>:<if_output> <if_con> else <else_ouput>"
   ]
  },
  {
   "cell_type": "code",
   "execution_count": 15,
   "id": "a5a05654",
   "metadata": {},
   "outputs": [
    {
     "data": {
      "text/plain": [
       "20"
      ]
     },
     "execution_count": 15,
     "metadata": {},
     "output_type": "execute_result"
    }
   ],
   "source": [
    "maxmin=lambda n1,n2:n1 if n1>n2 else n2\n",
    "maxmin(10,20)"
   ]
  },
  {
   "cell_type": "code",
   "execution_count": 17,
   "id": "df6547d8",
   "metadata": {},
   "outputs": [
    {
     "data": {
      "text/plain": [
       "['Hyd', 'Mumbai', 'Chennai']"
      ]
     },
     "execution_count": 17,
     "metadata": {},
     "output_type": "execute_result"
    }
   ],
   "source": [
    "list1=['hyd','mumbai','chennai']\n",
    "# list2=['Hyd','Mumbai','Chennai']\n",
    "##################################################\n",
    "#list2=[]\n",
    "#for i in list1:\n",
    "#list2.append(i.capitalize())\n",
    "#######################################################\n",
    "list2=[i.capitalize() for i in list1]\n",
    "list2"
   ]
  },
  {
   "cell_type": "markdown",
   "id": "e61bad9f",
   "metadata": {},
   "source": [
    "## map"
   ]
  },
  {
   "cell_type": "code",
   "execution_count": null,
   "id": "b44a9da4",
   "metadata": {},
   "outputs": [],
   "source": [
    "list(map(lambda <variable>:<output>,<iterator>))"
   ]
  },
  {
   "cell_type": "code",
   "execution_count": 19,
   "id": "f675dc2a",
   "metadata": {},
   "outputs": [
    {
     "data": {
      "text/plain": [
       "['Hyd', 'Mumbai', 'Chennai']"
      ]
     },
     "execution_count": 19,
     "metadata": {},
     "output_type": "execute_result"
    }
   ],
   "source": [
    "list(map(lambda i : i.capitalize(),list1))"
   ]
  },
  {
   "cell_type": "code",
   "execution_count": 20,
   "id": "9213e6b5",
   "metadata": {},
   "outputs": [
    {
     "data": {
      "text/plain": [
       "[1, 4, 9, 16]"
      ]
     },
     "execution_count": 20,
     "metadata": {},
     "output_type": "execute_result"
    }
   ],
   "source": [
    "l1=[1,2,3,4]\n",
    "#l2=[1,4,9,16]\n",
    "list(map(lambda i: i*i,l1))"
   ]
  },
  {
   "cell_type": "markdown",
   "id": "1f4a83a7",
   "metadata": {},
   "source": [
    "## filter"
   ]
  },
  {
   "cell_type": "code",
   "execution_count": 21,
   "id": "3ff33fe6",
   "metadata": {},
   "outputs": [
    {
     "data": {
      "text/plain": [
       "['hyder#abad', 'Mum#bai', 'Chenn#ai']"
      ]
     },
     "execution_count": 21,
     "metadata": {},
     "output_type": "execute_result"
    }
   ],
   "source": [
    "l1=['hyder#abad','Mum#bai','Chenn#ai','Blr','pune']\n",
    "# l2=['hyder#abad','Mum#bai','Chenn#ai']\n",
    "######################################################\n",
    "l2=[]\n",
    "for i in l1:\n",
    "if '#' in i:\n",
    "l2.append(i)\n",
    "l2\n",
    "######################################################\n",
    "l2=[i for i in l1 if '#' in i]\n",
    "l2\n",
    "######################################################\n",
    "l2=[i for i in l1 if '#' in i]\n",
    "l2"
   ]
  },
  {
   "cell_type": "code",
   "execution_count": 22,
   "id": "32ddee93",
   "metadata": {},
   "outputs": [
    {
     "data": {
      "text/plain": [
       "[True, True, True, False, False]"
      ]
     },
     "execution_count": 22,
     "metadata": {},
     "output_type": "execute_result"
    }
   ],
   "source": [
    "l1=['hyder#abad','Mum#bai','Chenn#ai','Blr','pune']\n",
    "list(map(lambda i : '#' in i,l1))"
   ]
  },
  {
   "cell_type": "code",
   "execution_count": null,
   "id": "92dabed9",
   "metadata": {},
   "outputs": [],
   "source": []
  }
 ],
 "metadata": {
  "kernelspec": {
   "display_name": "Python 3 (ipykernel)",
   "language": "python",
   "name": "python3"
  },
  "language_info": {
   "codemirror_mode": {
    "name": "ipython",
    "version": 3
   },
   "file_extension": ".py",
   "mimetype": "text/x-python",
   "name": "python",
   "nbconvert_exporter": "python",
   "pygments_lexer": "ipython3",
   "version": "3.9.13"
  }
 },
 "nbformat": 4,
 "nbformat_minor": 5
}
