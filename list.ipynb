{
 "cells": [
  {
   "cell_type": "markdown",
   "id": "36aacb85",
   "metadata": {},
   "source": [
    "How to read\n",
    "How many ways we can represent\n",
    "type\n",
    "len\n",
    "max\n",
    "min\n",
    "sorted\n",
    "reversed\n",
    "Concatenation\n",
    "in\n",
    "index\n",
    "for loop iteration\n",
    "mutable-immutable\n",
    "slice\n",
    "Methods"
   ]
  },
  {
   "cell_type": "code",
   "execution_count": 1,
   "id": "0c2c42ad",
   "metadata": {},
   "outputs": [
    {
     "data": {
      "text/plain": [
       "[1, 2, 3, 4]"
      ]
     },
     "execution_count": 1,
     "metadata": {},
     "output_type": "execute_result"
    }
   ],
   "source": [
    "l1=[1,2,3,4]\n",
    "l1"
   ]
  },
  {
   "cell_type": "code",
   "execution_count": 2,
   "id": "dbf2fb2c",
   "metadata": {},
   "outputs": [
    {
     "data": {
      "text/plain": [
       "['Apple', 'Banana', 'Cherry']"
      ]
     },
     "execution_count": 2,
     "metadata": {},
     "output_type": "execute_result"
    }
   ],
   "source": [
    "l2=['Apple','Banana','Cherry']\n",
    "l2"
   ]
  },
  {
   "cell_type": "code",
   "execution_count": 3,
   "id": "e88918ac",
   "metadata": {},
   "outputs": [
    {
     "data": {
      "text/plain": [
       "[1, 2, 3, 'A', 'B', 'C']"
      ]
     },
     "execution_count": 3,
     "metadata": {},
     "output_type": "execute_result"
    }
   ],
   "source": [
    "l3=[1,2,3,'A','B','C']\n",
    "l3"
   ]
  },
  {
   "cell_type": "code",
   "execution_count": 4,
   "id": "6e98b5c4",
   "metadata": {},
   "outputs": [
    {
     "data": {
      "text/plain": [
       "[1, 2, 3, 'A', 'B', 'C', 10.5, True, (20+30j)]"
      ]
     },
     "execution_count": 4,
     "metadata": {},
     "output_type": "execute_result"
    }
   ],
   "source": [
    "l4=[1,2,3,'A','B','C',10.5,True,20+30j]\n",
    "l4"
   ]
  },
  {
   "cell_type": "code",
   "execution_count": 5,
   "id": "a282550c",
   "metadata": {},
   "outputs": [
    {
     "data": {
      "text/plain": [
       "[100, 100, 100]"
      ]
     },
     "execution_count": 5,
     "metadata": {},
     "output_type": "execute_result"
    }
   ],
   "source": [
    "l5=[100,100,100]\n",
    "l5"
   ]
  },
  {
   "cell_type": "code",
   "execution_count": 6,
   "id": "2fe4ebc6",
   "metadata": {},
   "outputs": [
    {
     "data": {
      "text/plain": [
       "[1, 2, 3, ['A', 'B', 'C']]"
      ]
     },
     "execution_count": 6,
     "metadata": {},
     "output_type": "execute_result"
    }
   ],
   "source": [
    "l6=[1,2,3,['A','B','C']]\n",
    "l6"
   ]
  },
  {
   "cell_type": "code",
   "execution_count": 11,
   "id": "d78030bd",
   "metadata": {},
   "outputs": [
    {
     "data": {
      "text/plain": [
       "[[[[[[1, 2, 3, ['A', 'B', 'C']]]]]]]"
      ]
     },
     "execution_count": 11,
     "metadata": {},
     "output_type": "execute_result"
    }
   ],
   "source": [
    "l8=[_]\n",
    "l8"
   ]
  },
  {
   "cell_type": "markdown",
   "id": "39e324a2",
   "metadata": {},
   "source": [
    "- List is array of elements\n",
    "- That elements can be any data type\n",
    "- Heterogeneous\n",
    "- List allows duplicates\n",
    "- List can extend with any values\n",
    "- List in List possible\n",
    "- List of underscore , is nothing but list in list"
   ]
  },
  {
   "cell_type": "code",
   "execution_count": 14,
   "id": "d6e08073",
   "metadata": {},
   "outputs": [
    {
     "data": {
      "text/plain": [
       "[1, 2, 3, 4]"
      ]
     },
     "execution_count": 14,
     "metadata": {},
     "output_type": "execute_result"
    }
   ],
   "source": [
    "l1"
   ]
  },
  {
   "cell_type": "code",
   "execution_count": 13,
   "id": "62f583e2",
   "metadata": {},
   "outputs": [
    {
     "data": {
      "text/plain": [
       "(4, 4, 1, 10)"
      ]
     },
     "execution_count": 13,
     "metadata": {},
     "output_type": "execute_result"
    }
   ],
   "source": [
    "len(l1),max(l1),min(l1),sum(l1)"
   ]
  },
  {
   "cell_type": "code",
   "execution_count": 16,
   "id": "6a0814eb",
   "metadata": {},
   "outputs": [
    {
     "data": {
      "text/plain": [
       "[1, 2, 3, ['A', 'B', 'C']]"
      ]
     },
     "execution_count": 16,
     "metadata": {},
     "output_type": "execute_result"
    }
   ],
   "source": [
    "l6"
   ]
  },
  {
   "cell_type": "code",
   "execution_count": 15,
   "id": "271c26e6",
   "metadata": {},
   "outputs": [
    {
     "data": {
      "text/plain": [
       "4"
      ]
     },
     "execution_count": 15,
     "metadata": {},
     "output_type": "execute_result"
    }
   ],
   "source": [
    "len(l6)"
   ]
  },
  {
   "cell_type": "code",
   "execution_count": 17,
   "id": "d9ec7397",
   "metadata": {},
   "outputs": [
    {
     "data": {
      "text/plain": [
       "2"
      ]
     },
     "execution_count": 17,
     "metadata": {},
     "output_type": "execute_result"
    }
   ],
   "source": [
    "l66=[[1,2,3],[4,5,6]]\n",
    "len(l66)"
   ]
  },
  {
   "cell_type": "code",
   "execution_count": 18,
   "id": "991a2db5",
   "metadata": {},
   "outputs": [
    {
     "data": {
      "text/plain": [
       "[1, 2, 3, 4]"
      ]
     },
     "execution_count": 18,
     "metadata": {},
     "output_type": "execute_result"
    }
   ],
   "source": [
    "sorted(l1)\n",
    "# By default reverse=False\n",
    "# which means ascending order"
   ]
  },
  {
   "cell_type": "code",
   "execution_count": 19,
   "id": "508e26cc",
   "metadata": {},
   "outputs": [
    {
     "data": {
      "text/plain": [
       "[4, 3, 2, 1]"
      ]
     },
     "execution_count": 19,
     "metadata": {},
     "output_type": "execute_result"
    }
   ],
   "source": [
    "# If you want to do descending order\n",
    "# reverse=True\n",
    "sorted(l1,reverse=True)"
   ]
  },
  {
   "cell_type": "code",
   "execution_count": 20,
   "id": "cc40df26",
   "metadata": {},
   "outputs": [
    {
     "data": {
      "text/plain": [
       "['Apple', 'Banana', 'Cherry']"
      ]
     },
     "execution_count": 20,
     "metadata": {},
     "output_type": "execute_result"
    }
   ],
   "source": [
    "sorted(l2)"
   ]
  },
  {
   "cell_type": "code",
   "execution_count": 22,
   "id": "e090329b",
   "metadata": {},
   "outputs": [
    {
     "data": {
      "text/plain": [
       "['Cherry', 'Banana', 'Apple']"
      ]
     },
     "execution_count": 22,
     "metadata": {},
     "output_type": "execute_result"
    }
   ],
   "source": [
    "sorted(l2,reverse=True)"
   ]
  },
  {
   "cell_type": "markdown",
   "id": "7b835bc8",
   "metadata": {},
   "source": [
    "Concatenation"
   ]
  },
  {
   "cell_type": "code",
   "execution_count": 23,
   "id": "ba3ad7a9",
   "metadata": {},
   "outputs": [
    {
     "data": {
      "text/plain": [
       "[1, 2, 3, 4]"
      ]
     },
     "execution_count": 23,
     "metadata": {},
     "output_type": "execute_result"
    }
   ],
   "source": [
    "l1"
   ]
  },
  {
   "cell_type": "code",
   "execution_count": 24,
   "id": "b42d8773",
   "metadata": {},
   "outputs": [
    {
     "data": {
      "text/plain": [
       "['Apple', 'Banana', 'Cherry']"
      ]
     },
     "execution_count": 24,
     "metadata": {},
     "output_type": "execute_result"
    }
   ],
   "source": [
    "l2"
   ]
  },
  {
   "cell_type": "code",
   "execution_count": 25,
   "id": "076556e4",
   "metadata": {},
   "outputs": [
    {
     "data": {
      "text/plain": [
       "[1, 2, 3, 4, 'Apple', 'Banana', 'Cherry']"
      ]
     },
     "execution_count": 25,
     "metadata": {},
     "output_type": "execute_result"
    }
   ],
   "source": [
    "l1+l2"
   ]
  },
  {
   "cell_type": "code",
   "execution_count": 26,
   "id": "ae507d1c",
   "metadata": {},
   "outputs": [
    {
     "data": {
      "text/plain": [
       "[1, 2, 3, 4]"
      ]
     },
     "execution_count": 26,
     "metadata": {},
     "output_type": "execute_result"
    }
   ],
   "source": [
    "l1"
   ]
  },
  {
   "cell_type": "code",
   "execution_count": 27,
   "id": "b9851bf0",
   "metadata": {},
   "outputs": [
    {
     "data": {
      "text/plain": [
       "[1, 2, 3, 'A', 'B', 'C']"
      ]
     },
     "execution_count": 27,
     "metadata": {},
     "output_type": "execute_result"
    }
   ],
   "source": [
    "l3"
   ]
  },
  {
   "cell_type": "code",
   "execution_count": 28,
   "id": "f5831b51",
   "metadata": {
    "scrolled": true
   },
   "outputs": [
    {
     "ename": "TypeError",
     "evalue": "can't multiply sequence by non-int of type 'list'",
     "output_type": "error",
     "traceback": [
      "\u001b[1;31m---------------------------------------------------------------------------\u001b[0m",
      "\u001b[1;31mTypeError\u001b[0m                                 Traceback (most recent call last)",
      "\u001b[1;32m~\\AppData\\Local\\Temp\\ipykernel_7364\\3189749762.py\u001b[0m in \u001b[0;36m<module>\u001b[1;34m\u001b[0m\n\u001b[1;32m----> 1\u001b[1;33m \u001b[0ml1\u001b[0m\u001b[1;33m*\u001b[0m\u001b[0ml3\u001b[0m\u001b[1;33m\u001b[0m\u001b[1;33m\u001b[0m\u001b[0m\n\u001b[0m",
      "\u001b[1;31mTypeError\u001b[0m: can't multiply sequence by non-int of type 'list'"
     ]
    }
   ],
   "source": [
    "l1*l3"
   ]
  },
  {
   "cell_type": "code",
   "execution_count": 29,
   "id": "c8ee1edc",
   "metadata": {},
   "outputs": [
    {
     "data": {
      "text/plain": [
       "[1, 2, 3, 4, 1, 2, 3, 4, 1, 2, 3, 4]"
      ]
     },
     "execution_count": 29,
     "metadata": {},
     "output_type": "execute_result"
    }
   ],
   "source": [
    "l1*3"
   ]
  },
  {
   "cell_type": "markdown",
   "id": "40c279f9",
   "metadata": {},
   "source": [
    "# index"
   ]
  },
  {
   "cell_type": "code",
   "execution_count": null,
   "id": "6eece35c",
   "metadata": {},
   "outputs": [],
   "source": [
    "-6  -5  -4  -3  -2 -1\n",
    " p   y   t   h   o  n\n",
    " 0   1   2   3   4  5"
   ]
  },
  {
   "cell_type": "code",
   "execution_count": 30,
   "id": "1f24e1ae",
   "metadata": {},
   "outputs": [
    {
     "data": {
      "text/plain": [
       "['Apple', 'Banana', 'Cherry']"
      ]
     },
     "execution_count": 30,
     "metadata": {},
     "output_type": "execute_result"
    }
   ],
   "source": [
    "l2"
   ]
  },
  {
   "cell_type": "code",
   "execution_count": 31,
   "id": "d1bc3e24",
   "metadata": {},
   "outputs": [
    {
     "data": {
      "text/plain": [
       "('Apple', 'Banana', 'Cherry')"
      ]
     },
     "execution_count": 31,
     "metadata": {},
     "output_type": "execute_result"
    }
   ],
   "source": [
    "l2[0],l2[1],l2[2]"
   ]
  },
  {
   "cell_type": "code",
   "execution_count": 33,
   "id": "cf425eaf",
   "metadata": {},
   "outputs": [
    {
     "name": "stdout",
     "output_type": "stream",
     "text": [
      "0 Apple\n",
      "1 Banana\n",
      "2 Cherry\n"
     ]
    }
   ],
   "source": [
    "for i in range(len(l2)):\n",
    "    print(i,l2[i])"
   ]
  },
  {
   "cell_type": "code",
   "execution_count": 37,
   "id": "a990c2f9",
   "metadata": {},
   "outputs": [],
   "source": [
    "# Postive index of Apple is 0\n",
    "# negative index of Apple is -3\n",
    "# postive and negative index"
   ]
  },
  {
   "cell_type": "code",
   "execution_count": 62,
   "id": "7f1e3408",
   "metadata": {},
   "outputs": [
    {
     "name": "stdout",
     "output_type": "stream",
     "text": [
      "positive index of apple is 0 and negative index -3\n",
      "positive index of banana is 1 and negative index -2\n",
      "positive index of cherry is 2 and negative index -1\n"
     ]
    }
   ],
   "source": [
    "s=len(l2)\n",
    "for i in range(s):\n",
    "    print(f'positive index of {l2[i]} is {i} and negative index {i-s}')"
   ]
  },
  {
   "cell_type": "code",
   "execution_count": 61,
   "id": "0e773770",
   "metadata": {},
   "outputs": [
    {
     "name": "stdout",
     "output_type": "stream",
     "text": [
      "positive and negative of apple is 0 and -3\n",
      "positive and negative of banana is 1 and -2\n",
      "positive and negative of cherry is 2 and -1\n"
     ]
    }
   ],
   "source": [
    "l2=['apple','banana','cherry']\n",
    "for i in range(len(l2)):\n",
    "    j=i-len(l2)\n",
    "    print(f'positive and negative of {l2[i]} is {i} and {j}')"
   ]
  },
  {
   "cell_type": "markdown",
   "id": "7e053b35",
   "metadata": {},
   "source": [
    "mutable-immutable"
   ]
  },
  {
   "cell_type": "code",
   "execution_count": 64,
   "id": "24ec5613",
   "metadata": {},
   "outputs": [
    {
     "data": {
      "text/plain": [
       "[100, 2, 3, 4]"
      ]
     },
     "execution_count": 64,
     "metadata": {},
     "output_type": "execute_result"
    }
   ],
   "source": [
    "l7=[1,2,3,4]\n",
    "l7\n",
    "l7[0]=100\n",
    "l7\n",
    "# lista are mutable"
   ]
  },
  {
   "cell_type": "code",
   "execution_count": 65,
   "id": "20746d86",
   "metadata": {},
   "outputs": [
    {
     "data": {
      "text/plain": [
       "20"
      ]
     },
     "execution_count": 65,
     "metadata": {},
     "output_type": "execute_result"
    }
   ],
   "source": [
    "list3=[['A','B',[1,20]]]\n",
    "# one 0\n",
    "len(list3)\n",
    "list3[0][2][1]"
   ]
  },
  {
   "cell_type": "code",
   "execution_count": 66,
   "id": "f778de35",
   "metadata": {},
   "outputs": [
    {
     "data": {
      "text/plain": [
       "'Apple'"
      ]
     },
     "execution_count": 66,
     "metadata": {},
     "output_type": "execute_result"
    }
   ],
   "source": [
    "list7=[[[[[[[['cherry',['Apple']]]]]]]]]\n",
    "list7[0][0][0][0][0][0][0][1][0]"
   ]
  },
  {
   "cell_type": "code",
   "execution_count": null,
   "id": "4400b087",
   "metadata": {},
   "outputs": [],
   "source": [
    "l1=['Hyd','Mumbai','Bhopal','Chennai']\n",
    "# print the elements which are having len of charcters >5\n",
    "# idea: Iterate through list\n",
    "# print each element\n",
    "# apply the condition\n",
    "# then print the output"
   ]
  },
  {
   "cell_type": "code",
   "execution_count": 67,
   "id": "ba509a7f",
   "metadata": {},
   "outputs": [
    {
     "data": {
      "text/plain": [
       "('python', 'is')"
      ]
     },
     "execution_count": 67,
     "metadata": {},
     "output_type": "execute_result"
    }
   ],
   "source": [
    "str1='hello is name my python'\n",
    "# identify the max len word\n",
    "# min len of word\n",
    "# idea: apply split operation : list of words\n",
    "# max min\n",
    "l1=str1.split()\n",
    "max(l1,key=len), min(l1,key=len)"
   ]
  },
  {
   "cell_type": "markdown",
   "id": "2c5282a9",
   "metadata": {},
   "source": [
    "# iterable\n",
    "    - if you able to print char or elements using for loop\n",
    "    - list,string,tuple,dic"
   ]
  },
  {
   "cell_type": "code",
   "execution_count": 68,
   "id": "cd3463fe",
   "metadata": {},
   "outputs": [],
   "source": [
    "qns=['Who is PM of india?',\n",
    "'what is capital of india?',\n",
    "'No of states in india?',\n",
    "'who is the captain of ICT']\n",
    "ans=['modi','delhi',29,'Rohit sharma']\n",
    "# you need to iterate through qns list\n",
    "# qn1='who is pm of india'\n",
    "# ans=input(\"enter yout answer\") rohit"
   ]
  },
  {
   "cell_type": "code",
   "execution_count": 70,
   "id": "b00279a2",
   "metadata": {},
   "outputs": [
    {
     "name": "stdout",
     "output_type": "stream",
     "text": [
      "Who is PM of india?\n",
      "enter the answer:modi\n",
      "what is capital of india?\n"
     ]
    },
    {
     "ename": "KeyboardInterrupt",
     "evalue": "Interrupted by user",
     "output_type": "error",
     "traceback": [
      "\u001b[1;31m---------------------------------------------------------------------------\u001b[0m",
      "\u001b[1;31mKeyboardInterrupt\u001b[0m                         Traceback (most recent call last)",
      "\u001b[1;32m~\\AppData\\Local\\Temp\\ipykernel_7364\\2717881424.py\u001b[0m in \u001b[0;36m<module>\u001b[1;34m\u001b[0m\n\u001b[0;32m      7\u001b[0m \u001b[1;32mfor\u001b[0m \u001b[0mi\u001b[0m \u001b[1;32min\u001b[0m \u001b[0mrange\u001b[0m\u001b[1;33m(\u001b[0m\u001b[0mlen\u001b[0m\u001b[1;33m(\u001b[0m\u001b[0mqns_list\u001b[0m\u001b[1;33m)\u001b[0m\u001b[1;33m)\u001b[0m\u001b[1;33m:\u001b[0m\u001b[1;33m\u001b[0m\u001b[1;33m\u001b[0m\u001b[0m\n\u001b[0;32m      8\u001b[0m     \u001b[0mprint\u001b[0m\u001b[1;33m(\u001b[0m\u001b[0mqns_list\u001b[0m\u001b[1;33m[\u001b[0m\u001b[0mi\u001b[0m\u001b[1;33m]\u001b[0m\u001b[1;33m)\u001b[0m\u001b[1;33m\u001b[0m\u001b[1;33m\u001b[0m\u001b[0m\n\u001b[1;32m----> 9\u001b[1;33m     \u001b[0manswer\u001b[0m\u001b[1;33m=\u001b[0m\u001b[0minput\u001b[0m\u001b[1;33m(\u001b[0m\u001b[1;34m\"enter the answer:\"\u001b[0m\u001b[1;33m)\u001b[0m\u001b[1;33m\u001b[0m\u001b[1;33m\u001b[0m\u001b[0m\n\u001b[0m\u001b[0;32m     10\u001b[0m     \u001b[1;32mif\u001b[0m \u001b[0manswer\u001b[0m\u001b[1;33m.\u001b[0m\u001b[0mcasefold\u001b[0m\u001b[1;33m(\u001b[0m\u001b[1;33m)\u001b[0m\u001b[1;33m==\u001b[0m\u001b[0mans_list\u001b[0m\u001b[1;33m[\u001b[0m\u001b[0mi\u001b[0m\u001b[1;33m]\u001b[0m\u001b[1;33m.\u001b[0m\u001b[0mcasefold\u001b[0m\u001b[1;33m(\u001b[0m\u001b[1;33m)\u001b[0m\u001b[1;33m:\u001b[0m\u001b[1;33m\u001b[0m\u001b[1;33m\u001b[0m\u001b[0m\n\u001b[0;32m     11\u001b[0m         \u001b[0mmarks\u001b[0m\u001b[1;33m=\u001b[0m\u001b[0mmarks\u001b[0m\u001b[1;33m+\u001b[0m\u001b[1;36m1\u001b[0m\u001b[1;33m\u001b[0m\u001b[1;33m\u001b[0m\u001b[0m\n",
      "\u001b[1;32m~\\anaconda3\\lib\\site-packages\\ipykernel\\kernelbase.py\u001b[0m in \u001b[0;36mraw_input\u001b[1;34m(self, prompt)\u001b[0m\n\u001b[0;32m   1175\u001b[0m                 \u001b[1;34m\"raw_input was called, but this frontend does not support input requests.\"\u001b[0m\u001b[1;33m\u001b[0m\u001b[1;33m\u001b[0m\u001b[0m\n\u001b[0;32m   1176\u001b[0m             )\n\u001b[1;32m-> 1177\u001b[1;33m         return self._input_request(\n\u001b[0m\u001b[0;32m   1178\u001b[0m             \u001b[0mstr\u001b[0m\u001b[1;33m(\u001b[0m\u001b[0mprompt\u001b[0m\u001b[1;33m)\u001b[0m\u001b[1;33m,\u001b[0m\u001b[1;33m\u001b[0m\u001b[1;33m\u001b[0m\u001b[0m\n\u001b[0;32m   1179\u001b[0m             \u001b[0mself\u001b[0m\u001b[1;33m.\u001b[0m\u001b[0m_parent_ident\u001b[0m\u001b[1;33m[\u001b[0m\u001b[1;34m\"shell\"\u001b[0m\u001b[1;33m]\u001b[0m\u001b[1;33m,\u001b[0m\u001b[1;33m\u001b[0m\u001b[1;33m\u001b[0m\u001b[0m\n",
      "\u001b[1;32m~\\anaconda3\\lib\\site-packages\\ipykernel\\kernelbase.py\u001b[0m in \u001b[0;36m_input_request\u001b[1;34m(self, prompt, ident, parent, password)\u001b[0m\n\u001b[0;32m   1217\u001b[0m             \u001b[1;32mexcept\u001b[0m \u001b[0mKeyboardInterrupt\u001b[0m\u001b[1;33m:\u001b[0m\u001b[1;33m\u001b[0m\u001b[1;33m\u001b[0m\u001b[0m\n\u001b[0;32m   1218\u001b[0m                 \u001b[1;31m# re-raise KeyboardInterrupt, to truncate traceback\u001b[0m\u001b[1;33m\u001b[0m\u001b[1;33m\u001b[0m\u001b[0m\n\u001b[1;32m-> 1219\u001b[1;33m                 \u001b[1;32mraise\u001b[0m \u001b[0mKeyboardInterrupt\u001b[0m\u001b[1;33m(\u001b[0m\u001b[1;34m\"Interrupted by user\"\u001b[0m\u001b[1;33m)\u001b[0m \u001b[1;32mfrom\u001b[0m \u001b[1;32mNone\u001b[0m\u001b[1;33m\u001b[0m\u001b[1;33m\u001b[0m\u001b[0m\n\u001b[0m\u001b[0;32m   1220\u001b[0m             \u001b[1;32mexcept\u001b[0m \u001b[0mException\u001b[0m\u001b[1;33m:\u001b[0m\u001b[1;33m\u001b[0m\u001b[1;33m\u001b[0m\u001b[0m\n\u001b[0;32m   1221\u001b[0m                 \u001b[0mself\u001b[0m\u001b[1;33m.\u001b[0m\u001b[0mlog\u001b[0m\u001b[1;33m.\u001b[0m\u001b[0mwarning\u001b[0m\u001b[1;33m(\u001b[0m\u001b[1;34m\"Invalid Message:\"\u001b[0m\u001b[1;33m,\u001b[0m \u001b[0mexc_info\u001b[0m\u001b[1;33m=\u001b[0m\u001b[1;32mTrue\u001b[0m\u001b[1;33m)\u001b[0m\u001b[1;33m\u001b[0m\u001b[1;33m\u001b[0m\u001b[0m\n",
      "\u001b[1;31mKeyboardInterrupt\u001b[0m: Interrupted by user"
     ]
    }
   ],
   "source": [
    "qns_list=['Who is PM of india?',\n",
    "'what is capital of india?',\n",
    "'No of states in india?',\n",
    "'who is the captain of ICT']\n",
    "ans_list=['modi','delhi','29','Rohit sharma']\n",
    "marks=0\n",
    "for i in range(len(qns_list)):\n",
    "    print(qns_list[i])\n",
    "    answer=input(\"enter the answer:\")\n",
    "    if answer.casefold()==ans_list[i].casefold():\n",
    "        marks=marks+1\n",
    "marks"
   ]
  },
  {
   "cell_type": "code",
   "execution_count": null,
   "id": "0827b4cf",
   "metadata": {},
   "outputs": [],
   "source": [
    "############### Pop ###############################\n",
    "# manually we are counting the index of element\n",
    "# that index we are passing through pop\n",
    "# So that it is remvoing that particular element\n",
    "# Draw back : we are manually counting\n",
    "# Draw back we can overcome by using: index\n",
    "#################### Remove ##################################\n",
    "# Remove is taking only direct value, no need to provide the index\n",
    "# Draw back: Second occurence will not consider"
   ]
  },
  {
   "cell_type": "code",
   "execution_count": 74,
   "id": "2c852ee3",
   "metadata": {},
   "outputs": [
    {
     "data": {
      "text/plain": [
       "9"
      ]
     },
     "execution_count": 74,
     "metadata": {},
     "output_type": "execute_result"
    }
   ],
   "source": [
    "l1=['A','B','C',1,2,3,100,20,300,400,500,'Apple']\n",
    "# I want to delete element :3 using pop\n",
    "#l1.pop(5)\n",
    "i=l1.index(400)\n",
    "#l1.pop(i)\n",
    "#l1\n",
    "i"
   ]
  },
  {
   "cell_type": "markdown",
   "id": "d32191ed",
   "metadata": {},
   "source": [
    "# list comphrension"
   ]
  },
  {
   "cell_type": "markdown",
   "id": "f44928cb",
   "metadata": {},
   "source": [
    "num=[]\n",
    "for i in range(1,11):\n",
    "num.append(i*i)\n",
    "num\n",
    "num=[<output> <forloop with out :>]"
   ]
  },
  {
   "cell_type": "code",
   "execution_count": 77,
   "id": "b4dd64cc",
   "metadata": {},
   "outputs": [
    {
     "data": {
      "text/plain": [
       "[1, 4, 9, 16, 25, 36, 49, 64, 81, 100]"
      ]
     },
     "execution_count": 77,
     "metadata": {},
     "output_type": "execute_result"
    }
   ],
   "source": [
    "num=[i*i for i in range(1,11) ]\n",
    "num"
   ]
  },
  {
   "cell_type": "code",
   "execution_count": 78,
   "id": "6e54392a",
   "metadata": {},
   "outputs": [
    {
     "data": {
      "text/plain": [
       "['Hyd', 'Mumbai']"
      ]
     },
     "execution_count": 78,
     "metadata": {},
     "output_type": "execute_result"
    }
   ],
   "source": [
    "l1=['hyd','mumbai']\n",
    "# l2=[]\n",
    "# for i in l1:\n",
    "# l2.append(i.capitalize())\n",
    "cap=[i.capitalize() for i in l1]\n",
    "cap"
   ]
  },
  {
   "cell_type": "markdown",
   "id": "4860704c",
   "metadata": {},
   "source": [
    "pattern 2"
   ]
  },
  {
   "cell_type": "code",
   "execution_count": 80,
   "id": "a1fd3ffe",
   "metadata": {},
   "outputs": [
    {
     "ename": "SyntaxError",
     "evalue": "invalid syntax (3644181028.py, line 1)",
     "output_type": "error",
     "traceback": [
      "\u001b[1;36m  File \u001b[1;32m\"C:\\Users\\hp\\AppData\\Local\\Temp\\ipykernel_7364\\3644181028.py\"\u001b[1;36m, line \u001b[1;32m1\u001b[0m\n\u001b[1;33m    for and if condition\u001b[0m\n\u001b[1;37m        ^\u001b[0m\n\u001b[1;31mSyntaxError\u001b[0m\u001b[1;31m:\u001b[0m invalid syntax\n"
     ]
    }
   ],
   "source": [
    "for and if condition"
   ]
  },
  {
   "cell_type": "code",
   "execution_count": 84,
   "id": "0e4c5478",
   "metadata": {},
   "outputs": [
    {
     "data": {
      "text/plain": [
       "['Mumbai', 'Chennai', 'Bengaluru']"
      ]
     },
     "execution_count": 84,
     "metadata": {},
     "output_type": "execute_result"
    }
   ],
   "source": [
    "l1=['hyd','Mumbai','Chennai','Bengaluru']\n",
    "l2=[]\n",
    "for i in l1:\n",
    "    if len(i)>5:\n",
    "        l2.append(i)\n",
    "l2"
   ]
  },
  {
   "cell_type": "code",
   "execution_count": null,
   "id": "b033265b",
   "metadata": {},
   "outputs": [],
   "source": [
    "l2=[<output> <forloop> <if condition>]"
   ]
  },
  {
   "cell_type": "code",
   "execution_count": 92,
   "id": "ba009291",
   "metadata": {},
   "outputs": [
    {
     "data": {
      "text/plain": [
       "['Mumbai', 'Chennai', 'Bengaluru']"
      ]
     },
     "execution_count": 92,
     "metadata": {},
     "output_type": "execute_result"
    }
   ],
   "source": [
    "l1=['hyd','Mumbai','Chennai','Bengaluru']\n",
    "l2=[i for i in l1 if len(i)>5]\n",
    "l2"
   ]
  },
  {
   "cell_type": "code",
   "execution_count": 90,
   "id": "8ecf42d4",
   "metadata": {},
   "outputs": [
    {
     "data": {
      "text/plain": [
       "['Mumbai', 'Chennai', 'Bengaluru']"
      ]
     },
     "execution_count": 90,
     "metadata": {},
     "output_type": "execute_result"
    }
   ],
   "source": [
    "l1=['hyd','Mumbai','Chennai','Bengaluru']\n",
    "l2=[i for i in l1 if len(i)>5]\n",
    "l2"
   ]
  },
  {
   "cell_type": "markdown",
   "id": "e5c1d2f9",
   "metadata": {},
   "source": [
    "pattern3"
   ]
  },
  {
   "cell_type": "code",
   "execution_count": null,
   "id": "95788aad",
   "metadata": {},
   "outputs": [],
   "source": [
    "for - if - else \n"
   ]
  },
  {
   "cell_type": "code",
   "execution_count": null,
   "id": "b83a2c06",
   "metadata": {},
   "outputs": [],
   "source": [
    "#num=[<output> <forloop>]\n",
    "#l2=[<output> <forloop> <if condition>]\n",
    "l=[]\n",
    "for i in range(1,10):\n",
    "    if i%2==0:\n",
    "        l.append(f'even {i}')\n",
    "    else:\n",
    "        l.append(f'odd {i}')\n",
    "l\n",
    "\n",
    "[<if_output> <if condition> else <else_ouput> <forloop>]"
   ]
  },
  {
   "cell_type": "code",
   "execution_count": 96,
   "id": "73a35f6d",
   "metadata": {},
   "outputs": [
    {
     "data": {
      "text/plain": [
       "['odd1', 'even2', 'odd3', 'even4', 'odd5', 'even6', 'odd7', 'even8', 'odd9']"
      ]
     },
     "execution_count": 96,
     "metadata": {},
     "output_type": "execute_result"
    }
   ],
   "source": [
    "list1=[f'even{i}' if i%2==0 else f'odd{i}' for i in range(1,10)]\n",
    "list1"
   ]
  },
  {
   "cell_type": "code",
   "execution_count": null,
   "id": "5a3f0ae6",
   "metadata": {},
   "outputs": [],
   "source": []
  },
  {
   "cell_type": "code",
   "execution_count": null,
   "id": "6833d175",
   "metadata": {},
   "outputs": [],
   "source": []
  },
  {
   "cell_type": "code",
   "execution_count": null,
   "id": "5c5d47f4",
   "metadata": {},
   "outputs": [],
   "source": []
  },
  {
   "cell_type": "code",
   "execution_count": null,
   "id": "a6582092",
   "metadata": {},
   "outputs": [],
   "source": []
  },
  {
   "cell_type": "code",
   "execution_count": null,
   "id": "af1cd8ca",
   "metadata": {},
   "outputs": [],
   "source": []
  },
  {
   "cell_type": "code",
   "execution_count": null,
   "id": "e5c9fb34",
   "metadata": {},
   "outputs": [],
   "source": []
  },
  {
   "cell_type": "code",
   "execution_count": null,
   "id": "afeb70ef",
   "metadata": {},
   "outputs": [],
   "source": []
  },
  {
   "cell_type": "code",
   "execution_count": null,
   "id": "5d248a66",
   "metadata": {},
   "outputs": [],
   "source": []
  },
  {
   "cell_type": "code",
   "execution_count": null,
   "id": "519c17da",
   "metadata": {},
   "outputs": [],
   "source": []
  },
  {
   "cell_type": "code",
   "execution_count": null,
   "id": "5e728e65",
   "metadata": {},
   "outputs": [],
   "source": []
  },
  {
   "cell_type": "code",
   "execution_count": null,
   "id": "92d7de00",
   "metadata": {},
   "outputs": [],
   "source": []
  },
  {
   "cell_type": "code",
   "execution_count": null,
   "id": "62ade28f",
   "metadata": {},
   "outputs": [],
   "source": []
  },
  {
   "cell_type": "code",
   "execution_count": null,
   "id": "cfe21742",
   "metadata": {},
   "outputs": [],
   "source": []
  },
  {
   "cell_type": "code",
   "execution_count": null,
   "id": "ff37382d",
   "metadata": {},
   "outputs": [],
   "source": []
  },
  {
   "cell_type": "code",
   "execution_count": null,
   "id": "3dcdcf39",
   "metadata": {},
   "outputs": [],
   "source": []
  },
  {
   "cell_type": "code",
   "execution_count": null,
   "id": "b78c775e",
   "metadata": {},
   "outputs": [],
   "source": []
  },
  {
   "cell_type": "code",
   "execution_count": null,
   "id": "f89fd10a",
   "metadata": {},
   "outputs": [],
   "source": []
  }
 ],
 "metadata": {
  "kernelspec": {
   "display_name": "Python 3 (ipykernel)",
   "language": "python",
   "name": "python3"
  },
  "language_info": {
   "codemirror_mode": {
    "name": "ipython",
    "version": 3
   },
   "file_extension": ".py",
   "mimetype": "text/x-python",
   "name": "python",
   "nbconvert_exporter": "python",
   "pygments_lexer": "ipython3",
   "version": "3.9.13"
  }
 },
 "nbformat": 4,
 "nbformat_minor": 5
}
