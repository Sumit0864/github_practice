{
 "cells": [
  {
   "cell_type": "markdown",
   "id": "6afad7ea",
   "metadata": {},
   "source": [
    "# Tuples"
   ]
  },
  {
   "cell_type": "markdown",
   "id": "79ea9f80",
   "metadata": {},
   "source": [
    "$Introduction  $   to $    Tuples$\n",
    "\n",
    "- Tuples are immutable sequences in Python, meaning their elements cannot be changed after creation.\n",
    "- They are defined using parentheses ( ) and can contain elements of different types."
   ]
  },
  {
   "cell_type": "code",
   "execution_count": 2,
   "id": "dd6fb4fd",
   "metadata": {},
   "outputs": [
    {
     "name": "stdout",
     "output_type": "stream",
     "text": [
      "('hello', ' i have edited this file for further')\n"
     ]
    }
   ],
   "source": [
    "# edit tuples for github\n",
    "tp= ('hello', ' i have edited this file for further')\n",
    "print(tp)\n"
   ]
  },
  {
   "cell_type": "code",
   "execution_count": null,
   "id": "768c5faf",
   "metadata": {},
   "outputs": [],
   "source": [
    "# Example of defining a tuple\n",
    "tp= (1, 2, 3, 'hello', True)\n",
    "print(tp)\n",
    "type(tp)\n"
   ]
  },
  {
   "cell_type": "code",
   "execution_count": 3,
   "id": "38db2879",
   "metadata": {},
   "outputs": [
    {
     "name": "stdout",
     "output_type": "stream",
     "text": [
      "(1, 2, 3, 'hello', True)\n"
     ]
    }
   ],
   "source": [
    "# different ways to read tuple\n",
    "print(tp)"
   ]
  },
  {
   "cell_type": "code",
   "execution_count": 4,
   "id": "7c431e03",
   "metadata": {},
   "outputs": [
    {
     "data": {
      "text/plain": [
       "(1, 2, 3, 'hello', True)"
      ]
     },
     "execution_count": 4,
     "metadata": {},
     "output_type": "execute_result"
    }
   ],
   "source": [
    "tp[::]"
   ]
  },
  {
   "cell_type": "code",
   "execution_count": 5,
   "id": "f9984684",
   "metadata": {},
   "outputs": [
    {
     "data": {
      "text/plain": [
       "1"
      ]
     },
     "execution_count": 5,
     "metadata": {},
     "output_type": "execute_result"
    }
   ],
   "source": [
    "tp[0]"
   ]
  },
  {
   "cell_type": "code",
   "execution_count": 6,
   "id": "7deace25",
   "metadata": {},
   "outputs": [
    {
     "name": "stdout",
     "output_type": "stream",
     "text": [
      "(1, 2, 3, 'hello', True) <class 'tuple'>\n"
     ]
    }
   ],
   "source": [
    "print(tp,type(tp))"
   ]
  },
  {
   "cell_type": "code",
   "execution_count": 9,
   "id": "d5fe81b6",
   "metadata": {},
   "outputs": [
    {
     "data": {
      "text/plain": [
       "(1, 2, 3, 'hello', True)"
      ]
     },
     "execution_count": 9,
     "metadata": {},
     "output_type": "execute_result"
    }
   ],
   "source": [
    "tp[0:5]"
   ]
  },
  {
   "cell_type": "code",
   "execution_count": null,
   "id": "2ab01865",
   "metadata": {},
   "outputs": [],
   "source": [
    "# common tuple operations\n"
   ]
  },
  {
   "cell_type": "markdown",
   "id": "0abee86f",
   "metadata": {},
   "source": [
    "## len"
   ]
  },
  {
   "cell_type": "code",
   "execution_count": 11,
   "id": "0d6d6977",
   "metadata": {},
   "outputs": [
    {
     "name": "stdout",
     "output_type": "stream",
     "text": [
      "(1, 2, 3, 'hello', True) 5\n"
     ]
    }
   ],
   "source": [
    "print(tp,len(tp))# getting the length of tuple and also the number of elements in it\n"
   ]
  },
  {
   "cell_type": "code",
   "execution_count": 15,
   "id": "3cdb902b",
   "metadata": {},
   "outputs": [
    {
     "data": {
      "text/plain": [
       "(1, 2, 3, 4, 5, 100, 200)"
      ]
     },
     "execution_count": 15,
     "metadata": {},
     "output_type": "execute_result"
    }
   ],
   "source": [
    "tuple1=(1,2,3,4,5,100,200)\n",
    "tuple1"
   ]
  },
  {
   "cell_type": "code",
   "execution_count": 16,
   "id": "fa561df5",
   "metadata": {},
   "outputs": [
    {
     "data": {
      "text/plain": [
       "7"
      ]
     },
     "execution_count": 16,
     "metadata": {},
     "output_type": "execute_result"
    }
   ],
   "source": [
    "len(tuple1)"
   ]
  },
  {
   "cell_type": "markdown",
   "id": "40e3cd20",
   "metadata": {},
   "source": [
    "## max min"
   ]
  },
  {
   "cell_type": "code",
   "execution_count": 17,
   "id": "093e2a5e",
   "metadata": {},
   "outputs": [
    {
     "data": {
      "text/plain": [
       "(1, 2, 3, 4, 5, 100, 200)"
      ]
     },
     "execution_count": 17,
     "metadata": {},
     "output_type": "execute_result"
    }
   ],
   "source": [
    "tuple1"
   ]
  },
  {
   "cell_type": "code",
   "execution_count": 18,
   "id": "4f2f0f63",
   "metadata": {},
   "outputs": [
    {
     "data": {
      "text/plain": [
       "200"
      ]
     },
     "execution_count": 18,
     "metadata": {},
     "output_type": "execute_result"
    }
   ],
   "source": [
    "max(tuple1)# getting the maximun or highest element in the tuple\n"
   ]
  },
  {
   "cell_type": "code",
   "execution_count": 19,
   "id": "16acbbe3",
   "metadata": {},
   "outputs": [
    {
     "data": {
      "text/plain": [
       "1"
      ]
     },
     "execution_count": 19,
     "metadata": {},
     "output_type": "execute_result"
    }
   ],
   "source": [
    "min(tuple1)# getting the minimun and lowest element in the tuple\n"
   ]
  },
  {
   "cell_type": "code",
   "execution_count": 24,
   "id": "70b59016",
   "metadata": {},
   "outputs": [
    {
     "data": {
      "text/plain": [
       "('apple', 'banana', 'cherry')"
      ]
     },
     "execution_count": 24,
     "metadata": {},
     "output_type": "execute_result"
    }
   ],
   "source": [
    "tuple2=('apple','banana','cherry')\n",
    "tuple2"
   ]
  },
  {
   "cell_type": "code",
   "execution_count": 25,
   "id": "a9552a9a",
   "metadata": {},
   "outputs": [
    {
     "data": {
      "text/plain": [
       "'cherry'"
      ]
     },
     "execution_count": 25,
     "metadata": {},
     "output_type": "execute_result"
    }
   ],
   "source": [
    "max(tuple2)"
   ]
  },
  {
   "cell_type": "code",
   "execution_count": 26,
   "id": "38de1173",
   "metadata": {},
   "outputs": [
    {
     "data": {
      "text/plain": [
       "'apple'"
      ]
     },
     "execution_count": 26,
     "metadata": {},
     "output_type": "execute_result"
    }
   ],
   "source": [
    "min(tuple2)"
   ]
  },
  {
   "cell_type": "markdown",
   "id": "11ce420a",
   "metadata": {},
   "source": [
    "## sum"
   ]
  },
  {
   "cell_type": "code",
   "execution_count": null,
   "id": "9160cbd1",
   "metadata": {},
   "outputs": [],
   "source": [
    "# with this function we can get the sum of the elements of the tuple\n"
   ]
  },
  {
   "cell_type": "code",
   "execution_count": 27,
   "id": "fac89199",
   "metadata": {},
   "outputs": [
    {
     "data": {
      "text/plain": [
       "(1, 2, 3, 4, 5, 100, 200)"
      ]
     },
     "execution_count": 27,
     "metadata": {},
     "output_type": "execute_result"
    }
   ],
   "source": [
    "tuple1"
   ]
  },
  {
   "cell_type": "code",
   "execution_count": 28,
   "id": "0afb1e0b",
   "metadata": {},
   "outputs": [
    {
     "data": {
      "text/plain": [
       "315"
      ]
     },
     "execution_count": 28,
     "metadata": {},
     "output_type": "execute_result"
    }
   ],
   "source": [
    "sum(tuple1)"
   ]
  },
  {
   "cell_type": "markdown",
   "id": "8d9db2d1",
   "metadata": {},
   "source": [
    "## reversed"
   ]
  },
  {
   "cell_type": "code",
   "execution_count": null,
   "id": "69fa8559",
   "metadata": {},
   "outputs": [],
   "source": []
  },
  {
   "cell_type": "code",
   "execution_count": 31,
   "id": "533d7b39",
   "metadata": {},
   "outputs": [
    {
     "data": {
      "text/plain": [
       "(1, 2, 3, 4, 5, 100, 200)"
      ]
     },
     "execution_count": 31,
     "metadata": {},
     "output_type": "execute_result"
    }
   ],
   "source": [
    "tuple1"
   ]
  },
  {
   "cell_type": "code",
   "execution_count": 32,
   "id": "45deb2a5",
   "metadata": {},
   "outputs": [
    {
     "data": {
      "text/plain": [
       "<reversed at 0x2130531c9d0>"
      ]
     },
     "execution_count": 32,
     "metadata": {},
     "output_type": "execute_result"
    }
   ],
   "source": [
    "reversed(tuple1)# to print the reverse of a number we should iterate it through loop\n"
   ]
  },
  {
   "cell_type": "code",
   "execution_count": 36,
   "id": "8e5c5a2e",
   "metadata": {},
   "outputs": [
    {
     "name": "stdout",
     "output_type": "stream",
     "text": [
      "200 100 5 4 3 2 1 "
     ]
    }
   ],
   "source": [
    "for i in reversed(tuple1):\n",
    "    print(i,end=' ')"
   ]
  },
  {
   "cell_type": "code",
   "execution_count": 34,
   "id": "1185b4b3",
   "metadata": {},
   "outputs": [
    {
     "name": "stdout",
     "output_type": "stream",
     "text": [
      "cherry\n",
      "banana\n",
      "apple\n"
     ]
    }
   ],
   "source": [
    "for i in reversed(tuple2):\n",
    "    print(i)"
   ]
  },
  {
   "cell_type": "markdown",
   "id": "685481e8",
   "metadata": {},
   "source": [
    "## sorted"
   ]
  },
  {
   "cell_type": "code",
   "execution_count": 46,
   "id": "ca174352",
   "metadata": {},
   "outputs": [],
   "source": [
    "#sort method sorts the order or the elements otf the tuple and by default it prints the elements in ascemding \n",
    "#order"
   ]
  },
  {
   "cell_type": "code",
   "execution_count": 43,
   "id": "4900be7f",
   "metadata": {},
   "outputs": [
    {
     "data": {
      "text/plain": [
       "(1, 2, 3, 4, 5, 100, 200)"
      ]
     },
     "execution_count": 43,
     "metadata": {},
     "output_type": "execute_result"
    }
   ],
   "source": [
    "tuple1"
   ]
  },
  {
   "cell_type": "code",
   "execution_count": 45,
   "id": "0e2017da",
   "metadata": {},
   "outputs": [
    {
     "data": {
      "text/plain": [
       "['apple', 'banana', 'cherry']"
      ]
     },
     "execution_count": 45,
     "metadata": {},
     "output_type": "execute_result"
    }
   ],
   "source": [
    "sorted(tuple2)"
   ]
  },
  {
   "cell_type": "code",
   "execution_count": 44,
   "id": "c64080b3",
   "metadata": {},
   "outputs": [
    {
     "data": {
      "text/plain": [
       "[1, 2, 3, 4, 5, 100, 200]"
      ]
     },
     "execution_count": 44,
     "metadata": {},
     "output_type": "execute_result"
    }
   ],
   "source": [
    "sorted(tuple1)"
   ]
  },
  {
   "cell_type": "code",
   "execution_count": 42,
   "id": "bf08548e",
   "metadata": {},
   "outputs": [],
   "source": [
    "tuple3=(1,23,4343,44,543,45)"
   ]
  },
  {
   "cell_type": "code",
   "execution_count": 47,
   "id": "7b5d3034",
   "metadata": {},
   "outputs": [
    {
     "data": {
      "text/plain": [
       "[1, 23, 44, 45, 543, 4343]"
      ]
     },
     "execution_count": 47,
     "metadata": {},
     "output_type": "execute_result"
    }
   ],
   "source": [
    "sorted(tuple3)"
   ]
  },
  {
   "cell_type": "code",
   "execution_count": 48,
   "id": "2c89f532",
   "metadata": {},
   "outputs": [
    {
     "data": {
      "text/plain": [
       "[4343, 543, 45, 44, 23, 1]"
      ]
     },
     "execution_count": 48,
     "metadata": {},
     "output_type": "execute_result"
    }
   ],
   "source": [
    "sorted(tuple3,reverse=True)# we can also print the elements of the tuple in descendin order using sorted method"
   ]
  },
  {
   "cell_type": "markdown",
   "id": "e8c1c9f7",
   "metadata": {},
   "source": [
    "# concateation"
   ]
  },
  {
   "cell_type": "code",
   "execution_count": null,
   "id": "08a73f82",
   "metadata": {},
   "outputs": [],
   "source": [
    "# we can add the tuples using + operator"
   ]
  },
  {
   "cell_type": "code",
   "execution_count": 49,
   "id": "78eb51af",
   "metadata": {},
   "outputs": [
    {
     "data": {
      "text/plain": [
       "(1, 2, 3, 4, 5, 100, 200)"
      ]
     },
     "execution_count": 49,
     "metadata": {},
     "output_type": "execute_result"
    }
   ],
   "source": [
    "tuple1"
   ]
  },
  {
   "cell_type": "code",
   "execution_count": 50,
   "id": "bd607d90",
   "metadata": {},
   "outputs": [
    {
     "data": {
      "text/plain": [
       "('apple', 'banana', 'cherry')"
      ]
     },
     "execution_count": 50,
     "metadata": {},
     "output_type": "execute_result"
    }
   ],
   "source": [
    "tuple2"
   ]
  },
  {
   "cell_type": "code",
   "execution_count": 51,
   "id": "cdd2def4",
   "metadata": {},
   "outputs": [
    {
     "data": {
      "text/plain": [
       "(1, 2, 3, 4, 5, 100, 200, 'apple', 'banana', 'cherry')"
      ]
     },
     "execution_count": 51,
     "metadata": {},
     "output_type": "execute_result"
    }
   ],
   "source": [
    "tuple1 + tuple2"
   ]
  },
  {
   "cell_type": "code",
   "execution_count": 52,
   "id": "7ce2d69a",
   "metadata": {},
   "outputs": [
    {
     "data": {
      "text/plain": [
       "(1, 23, 4343, 44, 543, 45)"
      ]
     },
     "execution_count": 52,
     "metadata": {},
     "output_type": "execute_result"
    }
   ],
   "source": [
    "tuple3"
   ]
  },
  {
   "cell_type": "code",
   "execution_count": 55,
   "id": "816119cb",
   "metadata": {},
   "outputs": [],
   "source": [
    "tuple4=(tuple1+tuple3)"
   ]
  },
  {
   "cell_type": "code",
   "execution_count": 56,
   "id": "9ca6f5c8",
   "metadata": {},
   "outputs": [
    {
     "data": {
      "text/plain": [
       "(1, 2, 3, 4, 5, 100, 200, 1, 23, 4343, 44, 543, 45)"
      ]
     },
     "execution_count": 56,
     "metadata": {},
     "output_type": "execute_result"
    }
   ],
   "source": [
    "tuple4"
   ]
  },
  {
   "cell_type": "markdown",
   "id": "82fe57cd",
   "metadata": {},
   "source": [
    "## membership"
   ]
  },
  {
   "cell_type": "code",
   "execution_count": 57,
   "id": "83aa4651",
   "metadata": {},
   "outputs": [
    {
     "data": {
      "text/plain": [
       "(1, 2, 3, 4, 5, 100, 200, 1, 23, 4343, 44, 543, 45)"
      ]
     },
     "execution_count": 57,
     "metadata": {},
     "output_type": "execute_result"
    }
   ],
   "source": [
    "tuple4"
   ]
  },
  {
   "cell_type": "code",
   "execution_count": 59,
   "id": "6445f67d",
   "metadata": {},
   "outputs": [
    {
     "name": "stdout",
     "output_type": "stream",
     "text": [
      "True\n"
     ]
    }
   ],
   "source": [
    "print(3 in tuple4)"
   ]
  },
  {
   "cell_type": "code",
   "execution_count": 60,
   "id": "86869184",
   "metadata": {},
   "outputs": [
    {
     "name": "stdout",
     "output_type": "stream",
     "text": [
      "False\n"
     ]
    }
   ],
   "source": [
    "print(111 in tuple4)"
   ]
  },
  {
   "cell_type": "code",
   "execution_count": 61,
   "id": "906d6d6f",
   "metadata": {},
   "outputs": [
    {
     "name": "stdout",
     "output_type": "stream",
     "text": [
      "False\n"
     ]
    }
   ],
   "source": [
    "print(1 not in tuple4)"
   ]
  },
  {
   "cell_type": "markdown",
   "id": "3c32b8f8",
   "metadata": {},
   "source": [
    "## indexing"
   ]
  },
  {
   "cell_type": "code",
   "execution_count": 62,
   "id": "1cd64b18",
   "metadata": {},
   "outputs": [],
   "source": [
    "# tuple indexing is as it is as list and strings"
   ]
  },
  {
   "cell_type": "code",
   "execution_count": 63,
   "id": "ffdff955",
   "metadata": {},
   "outputs": [
    {
     "data": {
      "text/plain": [
       "2"
      ]
     },
     "execution_count": 63,
     "metadata": {},
     "output_type": "execute_result"
    }
   ],
   "source": [
    "tuple1[1]"
   ]
  },
  {
   "cell_type": "code",
   "execution_count": 64,
   "id": "d404ce45",
   "metadata": {},
   "outputs": [
    {
     "data": {
      "text/plain": [
       "('apple', 'banana', 'cherry')"
      ]
     },
     "execution_count": 64,
     "metadata": {},
     "output_type": "execute_result"
    }
   ],
   "source": [
    "tuple2[::]"
   ]
  },
  {
   "cell_type": "code",
   "execution_count": 65,
   "id": "ea2d291c",
   "metadata": {},
   "outputs": [
    {
     "data": {
      "text/plain": [
       "('cherry',)"
      ]
     },
     "execution_count": 65,
     "metadata": {},
     "output_type": "execute_result"
    }
   ],
   "source": [
    "tuple2[-1:]"
   ]
  },
  {
   "cell_type": "code",
   "execution_count": 70,
   "id": "ac8a6d87",
   "metadata": {},
   "outputs": [
    {
     "data": {
      "text/plain": [
       "'banana'"
      ]
     },
     "execution_count": 70,
     "metadata": {},
     "output_type": "execute_result"
    }
   ],
   "source": [
    "tuple2[-2]"
   ]
  },
  {
   "cell_type": "markdown",
   "id": "cf0087fa",
   "metadata": {},
   "source": [
    "# mutable and immutable"
   ]
  },
  {
   "cell_type": "code",
   "execution_count": 71,
   "id": "56ae9c68",
   "metadata": {},
   "outputs": [
    {
     "data": {
      "text/plain": [
       "(1, 2, 3, 4, 5, 100, 200)"
      ]
     },
     "execution_count": 71,
     "metadata": {},
     "output_type": "execute_result"
    }
   ],
   "source": [
    "tuple1"
   ]
  },
  {
   "cell_type": "code",
   "execution_count": 73,
   "id": "25ff5b9d",
   "metadata": {},
   "outputs": [
    {
     "ename": "TypeError",
     "evalue": "'tuple' object is not callable",
     "output_type": "error",
     "traceback": [
      "\u001b[1;31m---------------------------------------------------------------------------\u001b[0m",
      "\u001b[1;31mTypeError\u001b[0m                                 Traceback (most recent call last)",
      "\u001b[1;32m~\\AppData\\Local\\Temp\\ipykernel_22084\\2300733206.py\u001b[0m in \u001b[0;36m<module>\u001b[1;34m\u001b[0m\n\u001b[1;32m----> 1\u001b[1;33m \u001b[0mtuple1\u001b[0m\u001b[1;33m(\u001b[0m\u001b[1;36m3\u001b[0m\u001b[1;33m,\u001b[0m\u001b[1;33m[\u001b[0m\u001b[1;36m0\u001b[0m\u001b[1;33m]\u001b[0m\u001b[1;33m)\u001b[0m\u001b[1;33m\u001b[0m\u001b[1;33m\u001b[0m\u001b[0m\n\u001b[0m",
      "\u001b[1;31mTypeError\u001b[0m: 'tuple' object is not callable"
     ]
    }
   ],
   "source": [
    "tuple1(3,[0])"
   ]
  },
  {
   "cell_type": "code",
   "execution_count": null,
   "id": "cca6ae82",
   "metadata": {},
   "outputs": [],
   "source": [
    "tuple is immutable"
   ]
  },
  {
   "cell_type": "markdown",
   "id": "93118b3d",
   "metadata": {},
   "source": [
    "## slicing"
   ]
  },
  {
   "cell_type": "code",
   "execution_count": 74,
   "id": "69428cec",
   "metadata": {},
   "outputs": [],
   "source": [
    "# tuple slicing is same as list and string\n"
   ]
  },
  {
   "cell_type": "code",
   "execution_count": 76,
   "id": "af0f70fd",
   "metadata": {},
   "outputs": [
    {
     "data": {
      "text/plain": [
       "(1, 2, 3, 4, 5, 100, 200)"
      ]
     },
     "execution_count": 76,
     "metadata": {},
     "output_type": "execute_result"
    }
   ],
   "source": [
    "tuple1"
   ]
  },
  {
   "cell_type": "code",
   "execution_count": 75,
   "id": "3eb06a3a",
   "metadata": {},
   "outputs": [
    {
     "name": "stdout",
     "output_type": "stream",
     "text": [
      "(2, 3, 4)\n"
     ]
    }
   ],
   "source": [
    "print(tuple1[1:4])"
   ]
  },
  {
   "cell_type": "code",
   "execution_count": 77,
   "id": "d9510c61",
   "metadata": {},
   "outputs": [
    {
     "data": {
      "text/plain": [
       "(1, 23, 4343, 44, 543, 45)"
      ]
     },
     "execution_count": 77,
     "metadata": {},
     "output_type": "execute_result"
    }
   ],
   "source": [
    "tuple3"
   ]
  },
  {
   "cell_type": "code",
   "execution_count": 81,
   "id": "a895806b",
   "metadata": {},
   "outputs": [
    {
     "data": {
      "text/plain": [
       "(23, 44)"
      ]
     },
     "execution_count": 81,
     "metadata": {},
     "output_type": "execute_result"
    }
   ],
   "source": [
    "tuple3[1:5:2]"
   ]
  },
  {
   "cell_type": "markdown",
   "id": "4a9f9078",
   "metadata": {},
   "source": [
    "# tuple methods"
   ]
  },
  {
   "cell_type": "code",
   "execution_count": 82,
   "id": "1cbb5872",
   "metadata": {},
   "outputs": [],
   "source": [
    "# tuple has only 2 methods because it is immutable "
   ]
  },
  {
   "cell_type": "code",
   "execution_count": 85,
   "id": "213f2a42",
   "metadata": {},
   "outputs": [
    {
     "data": {
      "text/plain": [
       "(1, 2, 3, 4, 5, 100, 200, 1, 23, 4343, 44, 543, 45)"
      ]
     },
     "execution_count": 85,
     "metadata": {},
     "output_type": "execute_result"
    }
   ],
   "source": [
    "tuple4"
   ]
  },
  {
   "cell_type": "code",
   "execution_count": 86,
   "id": "368ccb42",
   "metadata": {},
   "outputs": [
    {
     "data": {
      "text/plain": [
       "2"
      ]
     },
     "execution_count": 86,
     "metadata": {},
     "output_type": "execute_result"
    }
   ],
   "source": [
    "tuple4.count(1)"
   ]
  },
  {
   "cell_type": "code",
   "execution_count": 87,
   "id": "c8d2035e",
   "metadata": {},
   "outputs": [
    {
     "data": {
      "text/plain": [
       "1"
      ]
     },
     "execution_count": 87,
     "metadata": {},
     "output_type": "execute_result"
    }
   ],
   "source": [
    "tuple4.count(100)"
   ]
  },
  {
   "cell_type": "code",
   "execution_count": 91,
   "id": "5edf75f1",
   "metadata": {},
   "outputs": [
    {
     "data": {
      "text/plain": [
       "3"
      ]
     },
     "execution_count": 91,
     "metadata": {},
     "output_type": "execute_result"
    }
   ],
   "source": [
    "tuple4.index(4)"
   ]
  },
  {
   "cell_type": "code",
   "execution_count": 92,
   "id": "d8c1b50d",
   "metadata": {},
   "outputs": [
    {
     "data": {
      "text/plain": [
       "5"
      ]
     },
     "execution_count": 92,
     "metadata": {},
     "output_type": "execute_result"
    }
   ],
   "source": [
    "tuple4.index(100)"
   ]
  },
  {
   "cell_type": "code",
   "execution_count": 93,
   "id": "a1d57880",
   "metadata": {},
   "outputs": [
    {
     "ename": "ValueError",
     "evalue": "tuple.index(x): x not in tuple",
     "output_type": "error",
     "traceback": [
      "\u001b[1;31m---------------------------------------------------------------------------\u001b[0m",
      "\u001b[1;31mValueError\u001b[0m                                Traceback (most recent call last)",
      "\u001b[1;32m~\\AppData\\Local\\Temp\\ipykernel_22084\\2171012401.py\u001b[0m in \u001b[0;36m<module>\u001b[1;34m\u001b[0m\n\u001b[1;32m----> 1\u001b[1;33m \u001b[0mtuple4\u001b[0m\u001b[1;33m.\u001b[0m\u001b[0mindex\u001b[0m\u001b[1;33m(\u001b[0m\u001b[1;36m1000\u001b[0m\u001b[1;33m)\u001b[0m\u001b[1;33m\u001b[0m\u001b[1;33m\u001b[0m\u001b[0m\n\u001b[0m",
      "\u001b[1;31mValueError\u001b[0m: tuple.index(x): x not in tuple"
     ]
    }
   ],
   "source": [
    "tuple4.index(1000)"
   ]
  },
  {
   "cell_type": "code",
   "execution_count": null,
   "id": "3432dbf1",
   "metadata": {},
   "outputs": [],
   "source": []
  }
 ],
 "metadata": {
  "kernelspec": {
   "display_name": "Python 3 (ipykernel)",
   "language": "python",
   "name": "python3"
  },
  "language_info": {
   "codemirror_mode": {
    "name": "ipython",
    "version": 3
   },
   "file_extension": ".py",
   "mimetype": "text/x-python",
   "name": "python",
   "nbconvert_exporter": "python",
   "pygments_lexer": "ipython3",
   "version": "3.9.18"
  }
 },
 "nbformat": 4,
 "nbformat_minor": 5
}
