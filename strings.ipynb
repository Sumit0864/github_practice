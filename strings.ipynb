{
 "cells": [
  {
   "cell_type": "code",
   "execution_count": 1,
   "id": "094b2c33",
   "metadata": {},
   "outputs": [
    {
     "data": {
      "text/plain": [
       "str"
      ]
     },
     "execution_count": 1,
     "metadata": {},
     "output_type": "execute_result"
    }
   ],
   "source": [
    "name='python'\n",
    "# strings are in red colour: quotes\n",
    "# variable are in black colour\n",
    "# keywords are in green colour\n",
    "type(name)"
   ]
  },
  {
   "cell_type": "code",
   "execution_count": null,
   "id": "10119b03",
   "metadata": {},
   "outputs": [],
   "source": [
    "name2='i like \"python\"'\n",
    "print(name2)\n",
    "# entire string in single quotes\n",
    "# python word is in double quotes"
   ]
  },
  {
   "cell_type": "markdown",
   "id": "ee386d9b",
   "metadata": {},
   "source": [
    "# triple − quotes\n",
    "- triple quotes meaning is doc string\n",
    "- if you want to convey the information to user\n",
    "- In jupyter notebook: markdown\n",
    "- but in another platforms like Vscode, pycharm dont have markdown\n",
    "- at that place to convey the information we use triple quotes\n",
    "- that is called docstring"
   ]
  },
  {
   "cell_type": "markdown",
   "id": "0f9607ac",
   "metadata": {},
   "source": [
    "- type\n",
    "- max\n",
    "- min\n",
    "- len\n",
    "- reversed\n",
    "- sorted"
   ]
  },
  {
   "cell_type": "code",
   "execution_count": 2,
   "id": "dcb95303",
   "metadata": {},
   "outputs": [
    {
     "data": {
      "text/plain": [
       "'y'"
      ]
     },
     "execution_count": 2,
     "metadata": {},
     "output_type": "execute_result"
    }
   ],
   "source": [
    "name='python'\n",
    "max(name)\n",
    "# keyword(<variable_name>)\n",
    "# print(name)\n",
    "# type(name)"
   ]
  },
  {
   "cell_type": "markdown",
   "id": "784ca0f5",
   "metadata": {},
   "source": [
    "# aasci\n",
    "American Standard Code Information Interchange\n",
    "\n",
    "\n",
    "A: 65\n",
    "a: 97"
   ]
  },
  {
   "cell_type": "markdown",
   "id": "073509e1",
   "metadata": {},
   "source": [
    "# ord , chr"
   ]
  },
  {
   "cell_type": "code",
   "execution_count": 6,
   "id": "ac30752e",
   "metadata": {},
   "outputs": [
    {
     "data": {
      "text/plain": [
       "(112, 121)"
      ]
     },
     "execution_count": 6,
     "metadata": {},
     "output_type": "execute_result"
    }
   ],
   "source": [
    "name='python'\n",
    "ord(\"p\"),ord(\"y\")"
   ]
  },
  {
   "cell_type": "code",
   "execution_count": 8,
   "id": "7895f050",
   "metadata": {},
   "outputs": [
    {
     "data": {
      "text/plain": [
       "'p'"
      ]
     },
     "execution_count": 8,
     "metadata": {},
     "output_type": "execute_result"
    }
   ],
   "source": [
    "chr(112)"
   ]
  },
  {
   "cell_type": "code",
   "execution_count": 11,
   "id": "b5756ca0",
   "metadata": {},
   "outputs": [
    {
     "name": "stdout",
     "output_type": "stream",
     "text": [
      "nohtyp"
     ]
    }
   ],
   "source": [
    "for i in reversed(name):\n",
    "    print(i,end=\"\")"
   ]
  },
  {
   "cell_type": "code",
   "execution_count": 13,
   "id": "91df6098",
   "metadata": {},
   "outputs": [
    {
     "data": {
      "text/plain": [
       "['h', 'n', 'o', 'p', 't', 'y']"
      ]
     },
     "execution_count": 13,
     "metadata": {},
     "output_type": "execute_result"
    }
   ],
   "source": [
    "sorted('python')\n",
    "# by default reverse=False: acending order\n",
    "# sorted keyword sort the letters\n",
    "# [104,110,111,112,116,121]"
   ]
  },
  {
   "cell_type": "markdown",
   "id": "e21a5077",
   "metadata": {},
   "source": [
    "- type\n",
    "- max\n",
    "- min\n",
    "- ord\n",
    "- chr\n",
    "- len\n",
    "- reversed\n",
    "- in\n",
    "- sorted"
   ]
  },
  {
   "cell_type": "code",
   "execution_count": 23,
   "id": "c1f85c88",
   "metadata": {},
   "outputs": [
    {
     "data": {
      "text/plain": [
       "'python'"
      ]
     },
     "execution_count": 23,
     "metadata": {},
     "output_type": "execute_result"
    }
   ],
   "source": [
    "name"
   ]
  },
  {
   "cell_type": "code",
   "execution_count": 25,
   "id": "829df219",
   "metadata": {},
   "outputs": [
    {
     "name": "stdout",
     "output_type": "stream",
     "text": [
      "n\n",
      "o\n",
      "h\n",
      "t\n",
      "y\n",
      "p\n"
     ]
    }
   ],
   "source": [
    " for i in reversed(name):\n",
    "        print(i)"
   ]
  },
  {
   "cell_type": "code",
   "execution_count": 34,
   "id": "4e571625",
   "metadata": {},
   "outputs": [
    {
     "data": {
      "text/plain": [
       "['h', 'n', 'o', 'p', 't', 'y']"
      ]
     },
     "execution_count": 34,
     "metadata": {},
     "output_type": "execute_result"
    }
   ],
   "source": [
    "sorted('python')\n"
   ]
  },
  {
   "cell_type": "code",
   "execution_count": 33,
   "id": "03a1a00e",
   "metadata": {},
   "outputs": [
    {
     "data": {
      "text/plain": [
       "(104, 121, 110)"
      ]
     },
     "execution_count": 33,
     "metadata": {},
     "output_type": "execute_result"
    }
   ],
   "source": [
    "for "
   ]
  },
  {
   "cell_type": "code",
   "execution_count": 35,
   "id": "e6354629",
   "metadata": {},
   "outputs": [],
   "source": [
    "s1=\"hello\"\n",
    "s2=\"hii\"\n",
    "s3=s1+s2"
   ]
  },
  {
   "cell_type": "code",
   "execution_count": 36,
   "id": "df1105be",
   "metadata": {},
   "outputs": [
    {
     "data": {
      "text/plain": [
       "'hellohii'"
      ]
     },
     "execution_count": 36,
     "metadata": {},
     "output_type": "execute_result"
    }
   ],
   "source": [
    "s3"
   ]
  },
  {
   "cell_type": "markdown",
   "id": "26f7d108",
   "metadata": {},
   "source": [
    "$index$\n",
    "\n",
    "In python index start with zero"
   ]
  },
  {
   "cell_type": "code",
   "execution_count": 37,
   "id": "a60b3f74",
   "metadata": {},
   "outputs": [
    {
     "data": {
      "text/plain": [
       "'python'"
      ]
     },
     "execution_count": 37,
     "metadata": {},
     "output_type": "execute_result"
    }
   ],
   "source": [
    "str1='python'\n",
    "#-6 -5 -4 -3 -2 -1\n",
    "#p y t h o n\n",
    "#0 1 2 3 4 5\n",
    "str1"
   ]
  },
  {
   "cell_type": "code",
   "execution_count": 39,
   "id": "16ab83c2",
   "metadata": {},
   "outputs": [
    {
     "name": "stdout",
     "output_type": "stream",
     "text": [
      "p\n",
      "y\n",
      "t\n",
      "h\n",
      "o\n",
      "n\n"
     ]
    }
   ],
   "source": [
    "str1[0] # 'p'\n",
    "str1[1] # 'y'\n",
    "str1[2] # 't'\n",
    "str1[3] # 'h'\n",
    "str1[4] # 'o'\n",
    "str1[5] # 'n'\n",
    "for i in range(6):\n",
    "    print(str1[i])"
   ]
  },
  {
   "cell_type": "code",
   "execution_count": 40,
   "id": "42696d59",
   "metadata": {},
   "outputs": [
    {
     "name": "stdout",
     "output_type": "stream",
     "text": [
      "p\n",
      "y\n",
      "t\n",
      "h\n",
      "o\n",
      "n\n"
     ]
    }
   ],
   "source": [
    "for i in str1:\n",
    "    print(i)"
   ]
  },
  {
   "cell_type": "code",
   "execution_count": 44,
   "id": "b2f4a11b",
   "metadata": {},
   "outputs": [
    {
     "name": "stdout",
     "output_type": "stream",
     "text": [
      "p\n",
      "y\n",
      "t\n",
      "h\n",
      "o\n",
      "n\n"
     ]
    }
   ],
   "source": [
    "for i in range(len(str1)):\n",
    "    print(str1[i])"
   ]
  },
  {
   "cell_type": "code",
   "execution_count": 45,
   "id": "d75c1a12",
   "metadata": {},
   "outputs": [
    {
     "name": "stdout",
     "output_type": "stream",
     "text": [
      "0\n",
      "1\n",
      "2\n",
      "3\n",
      "4\n",
      "5\n"
     ]
    }
   ],
   "source": [
    "for i in range(len(str1)):\n",
    "    print(i)"
   ]
  },
  {
   "cell_type": "code",
   "execution_count": 49,
   "id": "bacf1466",
   "metadata": {},
   "outputs": [
    {
     "name": "stdout",
     "output_type": "stream",
     "text": [
      "the index of p is 0\n",
      "the index of y is 1\n",
      "the index of t is 2\n",
      "the index of h is 3\n",
      "the index of o is 4\n",
      "the index of n is 5\n"
     ]
    }
   ],
   "source": [
    "#WAP print the index of a given string\n",
    "# str1='python'\n",
    "# o/p: the index of p is 0\n",
    "# the index of y is 1\n",
    "for i in range(len(str1)):\n",
    "    print(\"the index of {} is {}\".format(str1[i],i))\n",
    "    \n",
    "\n"
   ]
  },
  {
   "cell_type": "code",
   "execution_count": 64,
   "id": "76766185",
   "metadata": {},
   "outputs": [
    {
     "name": "stdout",
     "output_type": "stream",
     "text": [
      " the negative index of p is -6\n",
      " the negative index of y is -5\n",
      " the negative index of t is -4\n",
      " the negative index of h is -3\n",
      " the negative index of o is -2\n",
      " the negative index of n is -1\n",
      "the positivev index of p is 0\n",
      "the positivev index of y is 1\n",
      "the positivev index of t is 2\n",
      "the positivev index of h is 3\n",
      "the positivev index of o is 4\n",
      "the positivev index of n is 5\n"
     ]
    }
   ],
   "source": [
    "# o/p: the negative index of p is -6\n",
    "# the negative index of y is -5\n",
    "# try to print -6 to -1\n",
    "n=len(str1)\n",
    "for i in range(-n,0):\n",
    "    print(\" the negative index of {} is {}\".format(str1[i],i))\n",
    "for i in range(n):\n",
    "    print(\"the positivev index of {} is {}\".format(str1[i],i))\n",
    "    \n",
    "\n",
    "\n",
    "\n"
   ]
  },
  {
   "cell_type": "markdown",
   "id": "72de2fbc",
   "metadata": {},
   "source": [
    "- Postive: 0 to len(string1)-1\n",
    "\n",
    "    - range(0,len(string1))\n",
    "    - start=0 end= last-1 : len(string1)-1\n",
    "- Negative: -len(string1) to -1\n",
    "    - |range(-len(string1),0)\n",
    "    - start= -len(string1), end= last-1 0-1=-1"
   ]
  },
  {
   "cell_type": "code",
   "execution_count": 16,
   "id": "97aa0b18",
   "metadata": {},
   "outputs": [
    {
     "name": "stdout",
     "output_type": "stream",
     "text": [
      "positive:0 negative:-5 both(0,-5)\n",
      "positive:1 negative:-4 both(1,-4)\n",
      "positive:2 negative:-3 both(2,-3)\n",
      "positive:3 negative:-2 both(3,-2)\n",
      "positive:4 negative:-1 both(4,-1)\n"
     ]
    }
   ],
   "source": [
    "# Task is implemenent the same\n",
    "# q1) Positive index\n",
    "# q2) negative index\n",
    "# q3) posand neg together\n",
    "# using while loop\n",
    "# screenshot in whatsapp group\n",
    "s1='sumit'\n",
    "i=0\n",
    "n=len(s1)\n",
    "while i<n:\n",
    "    print(\"positive:{} negative:{} both({},{})\".format(i,-n+i,i,-n+i))\n",
    "    \n",
    "    i=i+1"
   ]
  },
  {
   "cell_type": "code",
   "execution_count": null,
   "id": "45a41f68",
   "metadata": {},
   "outputs": [],
   "source": [
    "# WAP find the number of 'a' present in a given string\n",
    "# s1='hello how are you i am good'\n",
    "# ans: 2\n",
    "# count=0\n",
    "# Idea: iterat using for loop\n",
    "# get each letter\n",
    "# whenever that letter equal to a\n",
    "# count= count+1"
   ]
  },
  {
   "cell_type": "code",
   "execution_count": 17,
   "id": "0ec8264a",
   "metadata": {},
   "outputs": [
    {
     "name": "stdout",
     "output_type": "stream",
     "text": [
      "h\n",
      "e\n",
      "l\n",
      "l\n",
      "o\n",
      " \n",
      "h\n",
      "o\n",
      "w\n",
      " \n",
      "a\n",
      "r\n",
      "e\n",
      " \n",
      "y\n",
      "o\n",
      "u\n",
      " \n",
      "i\n",
      " \n",
      "a\n",
      "m\n",
      " \n",
      "g\n",
      "o\n",
      "o\n",
      "d\n"
     ]
    }
   ],
   "source": [
    "s1='hello how are you i am good'\n",
    "count=0\n",
    "for i in s1:\n",
    "    if s1[i]=='a':\n",
    "        count"
   ]
  },
  {
   "cell_type": "code",
   "execution_count": 10,
   "id": "549c826b",
   "metadata": {},
   "outputs": [
    {
     "name": "stdout",
     "output_type": "stream",
     "text": [
      "10\n",
      "20\n",
      "2\n"
     ]
    }
   ],
   "source": [
    "# WAP find the indexes of 'a' present in a given string\n",
    "# s1='hello how are you i am good'\n",
    "# ans:10,20\n",
    "# idea: iterate the loop using range\n",
    "# automaticall i becomes number\n",
    "# condition\n",
    "# print only i\n",
    "s1='hello how are you i am good'\n",
    "for i in range(len(s1)):\n",
    "    if s1[i]=='a':\n",
    "        print(i)\n",
    "\n",
    "s1='hello how are you i am good'\n",
    "count=0\n",
    "for i in range(len(s1)):\n",
    "    if s1[i]=='a':\n",
    "        count=count+1\n",
    "print(count)\n"
   ]
  },
  {
   "cell_type": "code",
   "execution_count": 13,
   "id": "4a2778e9",
   "metadata": {},
   "outputs": [
    {
     "name": "stdout",
     "output_type": "stream",
     "text": [
      "e\n",
      "o\n",
      "o\n",
      "a\n",
      "e\n",
      "o\n",
      "u\n",
      "i\n",
      "a\n",
      "o\n",
      "o\n"
     ]
    }
   ],
   "source": [
    "#WAP ask the user find the number vowels in a given string\n",
    "for i in range(len(s1)):\n",
    "    if s1[i] in 'aeiou':\n",
    "    \n",
    "        print(s1[i])\n",
    "    "
   ]
  },
  {
   "cell_type": "code",
   "execution_count": 16,
   "id": "02501730",
   "metadata": {},
   "outputs": [
    {
     "name": "stdout",
     "output_type": "stream",
     "text": [
      "11\n"
     ]
    }
   ],
   "source": [
    "count=0\n",
    "for i in range(len(s1)):\n",
    "    if s1[i] in 'aeiou':\n",
    "        count=count+1\n",
    "print(count)    "
   ]
  },
  {
   "cell_type": "markdown",
   "id": "6d9388ea",
   "metadata": {},
   "source": [
    "- Postive index\n",
    "- Negative index\n",
    "- Postive and Negative\n",
    "- Number of 'a'\n",
    "- Index of 'a'\n",
    "- Vowels in a given string"
   ]
  },
  {
   "cell_type": "markdown",
   "id": "c15caa8b",
   "metadata": {},
   "source": [
    "$mutable immutable$\n",
    "\n",
    "Mutable:Change the element by using index operation\n",
    "\n",
    "strings are immutable"
   ]
  },
  {
   "cell_type": "code",
   "execution_count": 18,
   "id": "6cc4a96a",
   "metadata": {},
   "outputs": [
    {
     "data": {
      "text/plain": [
       "'hello how are you i am good'"
      ]
     },
     "execution_count": 18,
     "metadata": {},
     "output_type": "execute_result"
    }
   ],
   "source": [
    "s1"
   ]
  },
  {
   "cell_type": "code",
   "execution_count": 19,
   "id": "43995898",
   "metadata": {},
   "outputs": [
    {
     "name": "stdout",
     "output_type": "stream",
     "text": [
      "positive index of h is 0 \n",
      "positive index of e is 1 \n",
      "positive index of l is 2 \n",
      "positive index of l is 3 \n",
      "positive index of o is 4 \n",
      "positive index of   is 5 \n",
      "positive index of h is 6 \n",
      "positive index of o is 7 \n",
      "positive index of w is 8 \n",
      "positive index of   is 9 \n",
      "positive index of a is 10 \n",
      "positive index of r is 11 \n",
      "positive index of e is 12 \n",
      "positive index of   is 13 \n",
      "positive index of y is 14 \n",
      "positive index of o is 15 \n",
      "positive index of u is 16 \n",
      "positive index of   is 17 \n",
      "positive index of i is 18 \n",
      "positive index of   is 19 \n",
      "positive index of a is 20 \n",
      "positive index of m is 21 \n",
      "positive index of   is 22 \n",
      "positive index of g is 23 \n",
      "positive index of o is 24 \n",
      "positive index of o is 25 \n",
      "positive index of d is 26 \n"
     ]
    }
   ],
   "source": [
    "for i in range(len(s1)):\n",
    "    print('positive index of {} is {} '.format(s1[i],i))"
   ]
  },
  {
   "cell_type": "code",
   "execution_count": 22,
   "id": "c3f5e6e9",
   "metadata": {},
   "outputs": [
    {
     "name": "stdout",
     "output_type": "stream",
     "text": [
      "negative index of h is -27\n",
      "negative index of e is -26\n",
      "negative index of l is -25\n",
      "negative index of l is -24\n",
      "negative index of o is -23\n",
      "negative index of   is -22\n",
      "negative index of h is -21\n",
      "negative index of o is -20\n",
      "negative index of w is -19\n",
      "negative index of   is -18\n",
      "negative index of a is -17\n",
      "negative index of r is -16\n",
      "negative index of e is -15\n",
      "negative index of   is -14\n",
      "negative index of y is -13\n",
      "negative index of o is -12\n",
      "negative index of u is -11\n",
      "negative index of   is -10\n",
      "negative index of i is -9\n",
      "negative index of   is -8\n",
      "negative index of a is -7\n",
      "negative index of m is -6\n",
      "negative index of   is -5\n",
      "negative index of g is -4\n",
      "negative index of o is -3\n",
      "negative index of o is -2\n",
      "negative index of d is -1\n"
     ]
    }
   ],
   "source": [
    "n=len(s1)\n",
    "for i in range(n):\n",
    "    print(\"negative index of {} is {}\".format(s1[i],-n+i))"
   ]
  },
  {
   "cell_type": "markdown",
   "id": "862a8fda",
   "metadata": {},
   "source": [
    "# slicing"
   ]
  },
  {
   "cell_type": "code",
   "execution_count": 27,
   "id": "f42874bf",
   "metadata": {},
   "outputs": [],
   "source": [
    "s1='hello how are you'"
   ]
  },
  {
   "cell_type": "code",
   "execution_count": null,
   "id": "4f5d4f79",
   "metadata": {},
   "outputs": [],
   "source": [
    "-17 -16 -15 -14 -13 -12 -11 -10 -9 -8 -7 -6 -5 -4 -3 -2 -1\n",
    " h   e   l   l   o       h   o   w     a  r  e     y  o  u\n",
    " 0   1   2   3   4   5   6   7   8  9  10 11 12 13 14 15 16"
   ]
  },
  {
   "cell_type": "code",
   "execution_count": 30,
   "id": "2dd2afec",
   "metadata": {},
   "outputs": [
    {
     "ename": "SyntaxError",
     "evalue": "invalid syntax (2967502012.py, line 3)",
     "output_type": "error",
     "traceback": [
      "\u001b[1;36m  File \u001b[1;32m\"C:\\Users\\hp\\AppData\\Local\\Temp\\ipykernel_12680\\2967502012.py\"\u001b[1;36m, line \u001b[1;32m3\u001b[0m\n\u001b[1;33m    [11:-11:1] # no answer\u001b[0m\n\u001b[1;37m       ^\u001b[0m\n\u001b[1;31mSyntaxError\u001b[0m\u001b[1;31m:\u001b[0m invalid syntax\n"
     ]
    }
   ],
   "source": [
    "#s1[11:-11:-1] # ans there\n",
    "#s1[11:-3] # no anser\n",
    "[11:-11:1] # no answer\n",
    "#s1[11:-3:1] # answer start=11 last=-3-1=-4"
   ]
  },
  {
   "cell_type": "markdown",
   "id": "c3f6b258",
   "metadata": {},
   "source": [
    "- How to read strings\n",
    "- Different ways single-quotes doule-quotes triple-quotes\n",
    "- type\n",
    "- min\n",
    "- max\n",
    "- len\n",
    "- reversed\n",
    "- sorted\n",
    "- ord\n",
    "- chr\n",
    "- in\n",
    "- in vs range\n",
    "- index\n",
    "- mutable immutable\n",
    "- concatenation\n",
    "- slice"
   ]
  },
  {
   "cell_type": "markdown",
   "id": "78792c85",
   "metadata": {},
   "source": [
    "# string methods"
   ]
  },
  {
   "cell_type": "code",
   "execution_count": 31,
   "id": "2e746e61",
   "metadata": {},
   "outputs": [
    {
     "data": {
      "text/plain": [
       "['__add__',\n",
       " '__class__',\n",
       " '__contains__',\n",
       " '__delattr__',\n",
       " '__dir__',\n",
       " '__doc__',\n",
       " '__eq__',\n",
       " '__format__',\n",
       " '__ge__',\n",
       " '__getattribute__',\n",
       " '__getitem__',\n",
       " '__getnewargs__',\n",
       " '__gt__',\n",
       " '__hash__',\n",
       " '__init__',\n",
       " '__init_subclass__',\n",
       " '__iter__',\n",
       " '__le__',\n",
       " '__len__',\n",
       " '__lt__',\n",
       " '__mod__',\n",
       " '__mul__',\n",
       " '__ne__',\n",
       " '__new__',\n",
       " '__reduce__',\n",
       " '__reduce_ex__',\n",
       " '__repr__',\n",
       " '__rmod__',\n",
       " '__rmul__',\n",
       " '__setattr__',\n",
       " '__sizeof__',\n",
       " '__str__',\n",
       " '__subclasshook__',\n",
       " 'capitalize',\n",
       " 'casefold',\n",
       " 'center',\n",
       " 'count',\n",
       " 'encode',\n",
       " 'endswith',\n",
       " 'expandtabs',\n",
       " 'find',\n",
       " 'format',\n",
       " 'format_map',\n",
       " 'index',\n",
       " 'isalnum',\n",
       " 'isalpha',\n",
       " 'isascii',\n",
       " 'isdecimal',\n",
       " 'isdigit',\n",
       " 'isidentifier',\n",
       " 'islower',\n",
       " 'isnumeric',\n",
       " 'isprintable',\n",
       " 'isspace',\n",
       " 'istitle',\n",
       " 'isupper',\n",
       " 'join',\n",
       " 'ljust',\n",
       " 'lower',\n",
       " 'lstrip',\n",
       " 'maketrans',\n",
       " 'partition',\n",
       " 'removeprefix',\n",
       " 'removesuffix',\n",
       " 'replace',\n",
       " 'rfind',\n",
       " 'rindex',\n",
       " 'rjust',\n",
       " 'rpartition',\n",
       " 'rsplit',\n",
       " 'rstrip',\n",
       " 'split',\n",
       " 'splitlines',\n",
       " 'startswith',\n",
       " 'strip',\n",
       " 'swapcase',\n",
       " 'title',\n",
       " 'translate',\n",
       " 'upper',\n",
       " 'zfill']"
      ]
     },
     "execution_count": 31,
     "metadata": {},
     "output_type": "execute_result"
    }
   ],
   "source": [
    "s1='python'\n",
    "\n",
    "# we stored 'python' in a varaiable s1\n",
    "# s1 act as package\n",
    "# every pcakages has some methods\n",
    "# dir(package)\n",
    "dir(s1) # dir('')"
   ]
  },
  {
   "cell_type": "code",
   "execution_count": 33,
   "id": "b92a5a78",
   "metadata": {},
   "outputs": [
    {
     "data": {
      "text/plain": [
       "'Python'"
      ]
     },
     "execution_count": 33,
     "metadata": {},
     "output_type": "execute_result"
    }
   ],
   "source": [
    "s1.capitalize()"
   ]
  },
  {
   "cell_type": "code",
   "execution_count": 35,
   "id": "e2c62f2e",
   "metadata": {},
   "outputs": [
    {
     "data": {
      "text/plain": [
       "'PYTHON'"
      ]
     },
     "execution_count": 35,
     "metadata": {},
     "output_type": "execute_result"
    }
   ],
   "source": [
    "s1.upper()"
   ]
  },
  {
   "cell_type": "code",
   "execution_count": 36,
   "id": "875877ab",
   "metadata": {},
   "outputs": [
    {
     "data": {
      "text/plain": [
       "'python'"
      ]
     },
     "execution_count": 36,
     "metadata": {},
     "output_type": "execute_result"
    }
   ],
   "source": [
    "s1.lower()"
   ]
  },
  {
   "cell_type": "code",
   "execution_count": 37,
   "id": "d0cc7bab",
   "metadata": {},
   "outputs": [
    {
     "data": {
      "text/plain": [
       "1"
      ]
     },
     "execution_count": 37,
     "metadata": {},
     "output_type": "execute_result"
    }
   ],
   "source": [
    "s1.count('p')"
   ]
  },
  {
   "cell_type": "code",
   "execution_count": 38,
   "id": "feaba7de",
   "metadata": {},
   "outputs": [
    {
     "data": {
      "text/plain": [
       "'jython'"
      ]
     },
     "execution_count": 38,
     "metadata": {},
     "output_type": "execute_result"
    }
   ],
   "source": [
    "s1.replace('p','j')"
   ]
  },
  {
   "cell_type": "code",
   "execution_count": 4,
   "id": "204f963b",
   "metadata": {},
   "outputs": [
    {
     "data": {
      "text/plain": [
       "'python'"
      ]
     },
     "execution_count": 4,
     "metadata": {},
     "output_type": "execute_result"
    }
   ],
   "source": [
    "str1='python'\n",
    "str1"
   ]
  },
  {
   "cell_type": "code",
   "execution_count": null,
   "id": "897f9336",
   "metadata": {},
   "outputs": [],
   "source": [
    "str1.index()"
   ]
  },
  {
   "cell_type": "code",
   "execution_count": 8,
   "id": "2b6db120",
   "metadata": {},
   "outputs": [
    {
     "name": "stdout",
     "output_type": "stream",
     "text": [
      "4\n"
     ]
    }
   ],
   "source": [
    "# In the above problem vowels are repating\n",
    "# you need to print only single vowel\n",
    "s1='abceieeeoa'\n",
    "s2=''\n",
    "for i in s1:\n",
    "    if i in 'aeiou':\n",
    "        if i not in s2:\n",
    "            s2=s2+i\n",
    "print(len(s2))"
   ]
  },
  {
   "cell_type": "markdown",
   "id": "314c631b",
   "metadata": {},
   "source": [
    "$ capitalise$"
   ]
  },
  {
   "cell_type": "code",
   "execution_count": 11,
   "id": "4f755866",
   "metadata": {},
   "outputs": [
    {
     "data": {
      "text/plain": [
       "'Python'"
      ]
     },
     "execution_count": 11,
     "metadata": {},
     "output_type": "execute_result"
    }
   ],
   "source": [
    "s1='python'\n",
    "#s1 act as package\n",
    "#captlise act as method\n",
    "#help(<package>.<method>)\n",
    "#help(s1.captlise())\n",
    "s1.capitalize()"
   ]
  },
  {
   "cell_type": "code",
   "execution_count": 12,
   "id": "831e8dff",
   "metadata": {},
   "outputs": [
    {
     "ename": "SyntaxError",
     "evalue": "invalid syntax (473970445.py, line 2)",
     "output_type": "error",
     "traceback": [
      "\u001b[1;36m  File \u001b[1;32m\"C:\\Users\\hp\\AppData\\Local\\Temp\\ipykernel_13652\\473970445.py\"\u001b[1;36m, line \u001b[1;32m2\u001b[0m\n\u001b[1;33m    len(s1) capitalize(s1) (wrong)\u001b[0m\n\u001b[1;37m            ^\u001b[0m\n\u001b[1;31mSyntaxError\u001b[0m\u001b[1;31m:\u001b[0m invalid syntax\n"
     ]
    }
   ],
   "source": [
    "# keywords vs methods\n",
    "len(s1) capitalize(s1) (wrong)\n",
    "max(s1)\n",
    "min(s1)\n",
    "s1.capitalize()\n",
    "# Keywords belongs to entire python\n",
    "# methods are related to only that data type"
   ]
  },
  {
   "cell_type": "markdown",
   "id": "9e87a5c9",
   "metadata": {},
   "source": [
    "## casefold upper and lower"
   ]
  },
  {
   "cell_type": "code",
   "execution_count": 16,
   "id": "239224d5",
   "metadata": {},
   "outputs": [
    {
     "data": {
      "text/plain": [
       "'PYTHON'"
      ]
     },
     "execution_count": 16,
     "metadata": {},
     "output_type": "execute_result"
    }
   ],
   "source": [
    "s1=s1.upper()\n",
    "s1"
   ]
  },
  {
   "cell_type": "code",
   "execution_count": 17,
   "id": "1adae1ab",
   "metadata": {},
   "outputs": [
    {
     "data": {
      "text/plain": [
       "'python'"
      ]
     },
     "execution_count": 17,
     "metadata": {},
     "output_type": "execute_result"
    }
   ],
   "source": [
    "s1=s1.lower()\n",
    "s1"
   ]
  },
  {
   "cell_type": "code",
   "execution_count": 19,
   "id": "5257e64e",
   "metadata": {},
   "outputs": [
    {
     "data": {
      "text/plain": [
       "'python'"
      ]
     },
     "execution_count": 19,
     "metadata": {},
     "output_type": "execute_result"
    }
   ],
   "source": [
    "s1=s1.casefold()\n",
    "s1"
   ]
  },
  {
   "cell_type": "markdown",
   "id": "1781c615",
   "metadata": {},
   "source": [
    "## count"
   ]
  },
  {
   "cell_type": "code",
   "execution_count": 21,
   "id": "9f67f892",
   "metadata": {},
   "outputs": [
    {
     "name": "stdout",
     "output_type": "stream",
     "text": [
      "3\n"
     ]
    }
   ],
   "source": [
    "s1='hai hai hai'\n",
    "count=0\n",
    "for i in s1:\n",
    "    if i=='a':\n",
    "        count=count+1\n",
    "print(count)        "
   ]
  },
  {
   "cell_type": "code",
   "execution_count": 26,
   "id": "3c5e410c",
   "metadata": {},
   "outputs": [
    {
     "data": {
      "text/plain": [
       "1"
      ]
     },
     "execution_count": 26,
     "metadata": {},
     "output_type": "execute_result"
    }
   ],
   "source": [
    "s1.count('a')\n",
    "s1.count('hai')\n",
    "s1.count(s1)"
   ]
  },
  {
   "cell_type": "code",
   "execution_count": 32,
   "id": "3f442b07",
   "metadata": {},
   "outputs": [
    {
     "data": {
      "text/plain": [
       "2"
      ]
     },
     "execution_count": 32,
     "metadata": {},
     "output_type": "execute_result"
    }
   ],
   "source": [
    "s1.count('h',1)"
   ]
  },
  {
   "cell_type": "code",
   "execution_count": 34,
   "id": "6023fbe5",
   "metadata": {},
   "outputs": [
    {
     "data": {
      "text/plain": [
       "1"
      ]
     },
     "execution_count": 34,
     "metadata": {},
     "output_type": "execute_result"
    }
   ],
   "source": [
    "s1.count('a',2,6)"
   ]
  },
  {
   "cell_type": "markdown",
   "id": "24b247cc",
   "metadata": {},
   "source": [
    "## replace"
   ]
  },
  {
   "cell_type": "code",
   "execution_count": 35,
   "id": "8def7fd8",
   "metadata": {},
   "outputs": [
    {
     "data": {
      "text/plain": [
       "'hai hai hai'"
      ]
     },
     "execution_count": 35,
     "metadata": {},
     "output_type": "execute_result"
    }
   ],
   "source": [
    "s1"
   ]
  },
  {
   "cell_type": "code",
   "execution_count": 36,
   "id": "bacb60b1",
   "metadata": {},
   "outputs": [
    {
     "data": {
      "text/plain": [
       "'hao hao hao'"
      ]
     },
     "execution_count": 36,
     "metadata": {},
     "output_type": "execute_result"
    }
   ],
   "source": [
    "s1.replace('i','o')"
   ]
  },
  {
   "cell_type": "code",
   "execution_count": 37,
   "id": "273a34b0",
   "metadata": {},
   "outputs": [
    {
     "data": {
      "text/plain": [
       "0"
      ]
     },
     "execution_count": 37,
     "metadata": {},
     "output_type": "execute_result"
    }
   ],
   "source": [
    "s1='wellllcome'\n",
    "s1.replace('z','L') # no error\n",
    "s1.count('z') # 0 no error"
   ]
  },
  {
   "cell_type": "code",
   "execution_count": 40,
   "id": "f14be433",
   "metadata": {},
   "outputs": [
    {
     "name": "stdout",
     "output_type": "stream",
     "text": [
      "resta$t\n"
     ]
    }
   ],
   "source": [
    "#inuput: 'restart'\n",
    "#output: 'resta$t'\n",
    "s1='restart'\n",
    "s2=s1[0]\n",
    "s3=s1[1:].replace('r','$')\n",
    "print(s2+s3)"
   ]
  },
  {
   "cell_type": "code",
   "execution_count": 41,
   "id": "97b95d0c",
   "metadata": {},
   "outputs": [
    {
     "data": {
      "text/plain": [
       "'resta$t'"
      ]
     },
     "execution_count": 41,
     "metadata": {},
     "output_type": "execute_result"
    }
   ],
   "source": [
    "s1[::-1].replace('r','$',1)[::-1]"
   ]
  },
  {
   "cell_type": "markdown",
   "id": "96ce504a",
   "metadata": {},
   "source": [
    "## index"
   ]
  },
  {
   "cell_type": "code",
   "execution_count": 44,
   "id": "c260676a",
   "metadata": {},
   "outputs": [
    {
     "data": {
      "text/plain": [
       "1"
      ]
     },
     "execution_count": 44,
     "metadata": {},
     "output_type": "execute_result"
    }
   ],
   "source": [
    "str1='python'\n",
    "str1.index('y')"
   ]
  },
  {
   "cell_type": "code",
   "execution_count": 49,
   "id": "96ec66ef",
   "metadata": {},
   "outputs": [
    {
     "data": {
      "text/plain": [
       "9"
      ]
     },
     "execution_count": 49,
     "metadata": {},
     "output_type": "execute_result"
    }
   ],
   "source": [
    "# return the lowest index in S where substring is found\n",
    "s4='hai hai hai'\n",
    "i1=s4.index('a',2,)\n",
    "i2=s4.index('a',i1+1)\n",
    "i2\n"
   ]
  },
  {
   "cell_type": "code",
   "execution_count": null,
   "id": "cb996be0",
   "metadata": {},
   "outputs": [],
   "source": [
    "# Q1) what is the meaning of index: 0 h\n",
    "# Q2) what is the index method will do : it will find the postion\n",
    "\n",
    "# when I, asking you second 'a'\n",
    "# we started seeing after first 'a'\n",
    "# first 'a' index =1\n",
    "# which index will start to see= 1+1=2"
   ]
  },
  {
   "cell_type": "code",
   "execution_count": 50,
   "id": "e7ad10c4",
   "metadata": {},
   "outputs": [
    {
     "data": {
      "text/plain": [
       "(1, 5, 9)"
      ]
     },
     "execution_count": 50,
     "metadata": {},
     "output_type": "execute_result"
    }
   ],
   "source": [
    "str2='hai hai hai hai'\n",
    "i1=str2.index('a') # 1\n",
    "i2=str2.index('a',i1+1) # 5\n",
    "i3=str2.index('a',i2+1) # 9\n",
    "i4=str2.index('a',i3+1)\n",
    "i1,i2,i3"
   ]
  },
  {
   "cell_type": "code",
   "execution_count": null,
   "id": "84232c9a",
   "metadata": {},
   "outputs": [],
   "source": [
    "# i1=str2.index('a')\n",
    "# i2=str2.index('a',str2.index('a')+1)\n",
    "# i3=str2.index('a',str2.index('a',str2.index('a')+1) +1)\n",
    "# i4=str2.index('a',str2.index('a',str2.index('a',str2.index('a')+1) +1)+1)"
   ]
  },
  {
   "cell_type": "code",
   "execution_count": 51,
   "id": "eac0a65e",
   "metadata": {},
   "outputs": [
    {
     "ename": "ValueError",
     "evalue": "substring not found",
     "output_type": "error",
     "traceback": [
      "\u001b[1;31m---------------------------------------------------------------------------\u001b[0m",
      "\u001b[1;31mValueError\u001b[0m                                Traceback (most recent call last)",
      "\u001b[1;32m~\\AppData\\Local\\Temp\\ipykernel_13652\\1684475847.py\u001b[0m in \u001b[0;36m<module>\u001b[1;34m\u001b[0m\n\u001b[1;32m----> 1\u001b[1;33m \u001b[0mi1\u001b[0m\u001b[1;33m=\u001b[0m\u001b[0mstr2\u001b[0m\u001b[1;33m.\u001b[0m\u001b[0mindex\u001b[0m\u001b[1;33m(\u001b[0m\u001b[1;34m'z'\u001b[0m\u001b[1;33m)\u001b[0m\u001b[1;33m\u001b[0m\u001b[1;33m\u001b[0m\u001b[0m\n\u001b[0m",
      "\u001b[1;31mValueError\u001b[0m: substring not found"
     ]
    }
   ],
   "source": [
    "i1=str2.index('z')"
   ]
  },
  {
   "cell_type": "code",
   "execution_count": 52,
   "id": "79f4ca1e",
   "metadata": {},
   "outputs": [],
   "source": [
    "# if not found it will show ValueError"
   ]
  },
  {
   "cell_type": "markdown",
   "id": "16f03faf",
   "metadata": {},
   "source": [
    "## if string not found \n",
    "\n",
    "- replace : same string\n",
    "- count:0\n",
    "- index : error\n"
   ]
  },
  {
   "cell_type": "markdown",
   "id": "313de0a0",
   "metadata": {},
   "source": [
    "## find"
   ]
  },
  {
   "cell_type": "code",
   "execution_count": 56,
   "id": "fdd73815",
   "metadata": {},
   "outputs": [
    {
     "data": {
      "text/plain": [
       "(1, 5, 9, 13, -1)"
      ]
     },
     "execution_count": 56,
     "metadata": {},
     "output_type": "execute_result"
    }
   ],
   "source": [
    "str1 = 'hai hai hai hai'\n",
    "i1=str1.find('a')\n",
    "i2=str1.find('a',i1+1)\n",
    "i3=str1.find('a',i2+1)\n",
    "i4=str1.find('a',i3+1)\n",
    "i5=str1.find('a',i4+1)\n",
    "i1,i2,i3,i4,i5\n"
   ]
  },
  {
   "cell_type": "markdown",
   "id": "20ba1a94",
   "metadata": {},
   "source": [
    "if string not found method will return -1\n",
    "\n",
    "\n",
    "if substring not found\n",
    "\n",
    "- replace:same string\n",
    "- count:value error\n",
    "- find:-1    "
   ]
  },
  {
   "cell_type": "code",
   "execution_count": 57,
   "id": "05dd33d4",
   "metadata": {},
   "outputs": [],
   "source": [
    "s1='omkar.nallagoni@cognizant.com'\n",
    "# first name='omkar'\n",
    "# sur name='nallagoni'\n",
    "# cname='cognizant'\n",
    "s2='virat.kohli@rcb.com'\n",
    "s3='rohit.sharma@mi.com'\n",
    "s4='lokesh.rahul@lsg.com'\n",
    "s5='a.b@c'\n",
    "# idea-1 extrat . index s1[0:<.index>]\n",
    "# ida-2 extract @ index s1[.:@]\n",
    "# idea=3 extract second . index s1[@:.]"
   ]
  },
  {
   "cell_type": "code",
   "execution_count": null,
   "id": "2816b2fa",
   "metadata": {},
   "outputs": [],
   "source": [
    "s1='virat.kohli@cognizant.com'\n",
    "# 5 should come automatically\n",
    "# 5 is an index of '.'\n",
    "i1=s1.index('.')\n",
    "i2=s1.index('@')\n",
    "i3=s1.index('.',i1+1)\n",
    "fname=s1[:i1]\n",
    "sname=s1[i1+1:i2]\n",
    "cname=s1[i2+1:i3]\n",
    "fname,sname,cname"
   ]
  },
  {
   "cell_type": "code",
   "execution_count": null,
   "id": "f4e8bcaa",
   "metadata": {},
   "outputs": [],
   "source": [
    "s3=\"a.b@c.com\"\n",
    "dot=s3.find('.')\n",
    "atrate=s3.find('@')\n",
    "sec_dot=s3.find('.',dot+1)\n",
    "print(s3[:dot])\n",
    "print(s3[dot+1:atrate])\n",
    "print(s3[atrate+1:sec_dot])"
   ]
  },
  {
   "cell_type": "markdown",
   "id": "d67cc81d",
   "metadata": {},
   "source": [
    "## lstrip rstrip strip"
   ]
  },
  {
   "cell_type": "code",
   "execution_count": 58,
   "id": "197380d5",
   "metadata": {},
   "outputs": [],
   "source": [
    "str1=' python '\n",
    "str2=' python'\n",
    "str3='python '"
   ]
  },
  {
   "cell_type": "code",
   "execution_count": 59,
   "id": "e17788ba",
   "metadata": {},
   "outputs": [
    {
     "data": {
      "text/plain": [
       "('python', 'python ', ' python')"
      ]
     },
     "execution_count": 59,
     "metadata": {},
     "output_type": "execute_result"
    }
   ],
   "source": [
    "# str1 has space in both sides\n",
    "str1.strip(),str1.lstrip(),str1.rstrip()    "
   ]
  },
  {
   "cell_type": "code",
   "execution_count": 60,
   "id": "a6715503",
   "metadata": {},
   "outputs": [
    {
     "data": {
      "text/plain": [
       "('python', ' python', 'python')"
      ]
     },
     "execution_count": 60,
     "metadata": {},
     "output_type": "execute_result"
    }
   ],
   "source": [
    "str2.strip(),str2.rstrip(),str2.lstrip()\n",
    "#strip is boss\n"
   ]
  },
  {
   "cell_type": "code",
   "execution_count": 65,
   "id": "d734a163",
   "metadata": {},
   "outputs": [
    {
     "data": {
      "text/plain": [
       "'python'"
      ]
     },
     "execution_count": 65,
     "metadata": {},
     "output_type": "execute_result"
    }
   ],
   "source": [
    "s1='$$$python$$$'\n",
    "s1.strip('$')"
   ]
  },
  {
   "cell_type": "code",
   "execution_count": 67,
   "id": "0d100491",
   "metadata": {},
   "outputs": [
    {
     "data": {
      "text/plain": [
       "'python'"
      ]
     },
     "execution_count": 67,
     "metadata": {},
     "output_type": "execute_result"
    }
   ],
   "source": [
    "S1='$$python@@'\n",
    "S1.strip('@').strip('$')"
   ]
  },
  {
   "cell_type": "code",
   "execution_count": 69,
   "id": "38a70fca",
   "metadata": {},
   "outputs": [
    {
     "data": {
      "text/plain": [
       "'python'"
      ]
     },
     "execution_count": 69,
     "metadata": {},
     "output_type": "execute_result"
    }
   ],
   "source": [
    "S1.strip('$,@')"
   ]
  },
  {
   "cell_type": "markdown",
   "id": "9936d14f",
   "metadata": {},
   "source": [
    "## startswith ends with"
   ]
  },
  {
   "cell_type": "code",
   "execution_count": 70,
   "id": "35405551",
   "metadata": {},
   "outputs": [
    {
     "data": {
      "text/plain": [
       "'$$$python$$$'"
      ]
     },
     "execution_count": 70,
     "metadata": {},
     "output_type": "execute_result"
    }
   ],
   "source": [
    "s1"
   ]
  },
  {
   "cell_type": "code",
   "execution_count": 73,
   "id": "1404d102",
   "metadata": {},
   "outputs": [
    {
     "data": {
      "text/plain": [
       "True"
      ]
     },
     "execution_count": 73,
     "metadata": {},
     "output_type": "execute_result"
    }
   ],
   "source": [
    "s1='hai how are you '\n",
    "s1.startswith('h')"
   ]
  },
  {
   "cell_type": "code",
   "execution_count": 74,
   "id": "6824b2ea",
   "metadata": {},
   "outputs": [
    {
     "data": {
      "text/plain": [
       "False"
      ]
     },
     "execution_count": 74,
     "metadata": {},
     "output_type": "execute_result"
    }
   ],
   "source": [
    "s1='hai how are you '\n",
    "s1.endswith('h')"
   ]
  },
  {
   "cell_type": "markdown",
   "id": "dac87b44",
   "metadata": {},
   "source": [
    "## split"
   ]
  },
  {
   "cell_type": "code",
   "execution_count": 84,
   "id": "115a93a1",
   "metadata": {},
   "outputs": [
    {
     "data": {
      "text/plain": [
       "['hai', 'how', ',', 'are', 'you']"
      ]
     },
     "execution_count": 84,
     "metadata": {},
     "output_type": "execute_result"
    }
   ],
   "source": [
    "# It will split the words\n",
    "# and the words output will be in list\n",
    "s1='hai how , are you'\n",
    "s1.split()"
   ]
  },
  {
   "cell_type": "code",
   "execution_count": 85,
   "id": "44248330",
   "metadata": {},
   "outputs": [
    {
     "data": {
      "text/plain": [
       "['hai how ', ' are you']"
      ]
     },
     "execution_count": 85,
     "metadata": {},
     "output_type": "execute_result"
    }
   ],
   "source": [
    "s1.split(',')"
   ]
  },
  {
   "cell_type": "code",
   "execution_count": 86,
   "id": "db62a71f",
   "metadata": {},
   "outputs": [
    {
     "data": {
      "text/plain": [
       "['h', 'i how , ', 're you']"
      ]
     },
     "execution_count": 86,
     "metadata": {},
     "output_type": "execute_result"
    }
   ],
   "source": [
    "s1.split('a')"
   ]
  },
  {
   "cell_type": "code",
   "execution_count": 87,
   "id": "df8fe0e7",
   "metadata": {},
   "outputs": [],
   "source": [
    "str1='hello /r/r/r/n/ how are you'\n",
    "#op 'hello how are you'"
   ]
  },
  {
   "cell_type": "code",
   "execution_count": 101,
   "id": "5fa33b74",
   "metadata": {},
   "outputs": [
    {
     "data": {
      "text/plain": [
       "'hello how are you'"
      ]
     },
     "execution_count": 101,
     "metadata": {},
     "output_type": "execute_result"
    }
   ],
   "source": [
    "str1.replace(' /r/r/r/n/',\"\")"
   ]
  },
  {
   "cell_type": "code",
   "execution_count": 8,
   "id": "08f52979",
   "metadata": {},
   "outputs": [
    {
     "data": {
      "text/plain": [
       "'a,b,c,d,1,2,aa,v,s,a,a,'"
      ]
     },
     "execution_count": 8,
     "metadata": {},
     "output_type": "execute_result"
    }
   ],
   "source": [
    "s1='a,b,c,d,1,2,aa,v,s,a,a,'\n",
    "s1"
   ]
  },
  {
   "cell_type": "code",
   "execution_count": 6,
   "id": "51a6d326",
   "metadata": {},
   "outputs": [
    {
     "data": {
      "text/plain": [
       "8"
      ]
     },
     "execution_count": 6,
     "metadata": {},
     "output_type": "execute_result"
    }
   ],
   "source": [
    "s1.find('1')"
   ]
  },
  {
   "cell_type": "code",
   "execution_count": 7,
   "id": "a2005907",
   "metadata": {},
   "outputs": [
    {
     "data": {
      "text/plain": [
       "'A,b,c,d,1,2,'"
      ]
     },
     "execution_count": 7,
     "metadata": {},
     "output_type": "execute_result"
    }
   ],
   "source": [
    "s1.capitalize()"
   ]
  },
  {
   "cell_type": "code",
   "execution_count": 9,
   "id": "5bfebefd",
   "metadata": {},
   "outputs": [
    {
     "data": {
      "text/plain": [
       "5"
      ]
     },
     "execution_count": 9,
     "metadata": {},
     "output_type": "execute_result"
    }
   ],
   "source": [
    "s1.count('a')"
   ]
  },
  {
   "cell_type": "code",
   "execution_count": null,
   "id": "fa40c3fb",
   "metadata": {},
   "outputs": [],
   "source": [
    "no_email=int(input(\" Enter the number of email addresses you want to enter\"))\n",
    "stu_email=\"\"\n",
    "prof_email=\"\"\n",
    "if no_email<=0:\n",
    "    print(\"invalid input \")\n",
    "else:\n",
    "    for i in range(no_email):\n",
    "        email=input(\" enter your email : \")\n",
    "        for i in email:\n",
    "            if 'student' in email:\n",
    "                stu_email=stu_email+i\n",
    "            elif 'prof' in email:\n",
    "                prof_email=prof_email+i\n",
    "\n",
    "if stu_email[::]==0:\n",
    "    print(\" NO STUDENT EMAIL IS ENTERED \")\n",
    "else:\n",
    "    print(\" THE STUDENTS EMAILS ARE : {}\\n\".format(stu_email))\n",
    "\n",
    "if prof_email[::]==0:\n",
    "    print(\" NO PROFESSOR EMAIL IS ENTERED \")\n",
    "else:\n",
    "    print(\"THE PROFESSOR EMAILS ARE : {}\\n\".format(prof_email))"
   ]
  },
  {
   "cell_type": "code",
   "execution_count": null,
   "id": "9a3c6528",
   "metadata": {},
   "outputs": [],
   "source": [
    "no_email=int(input(\" Enter the number of email addresses you want to enter\"))\n",
    "stu_email=\"\"\n",
    "prof_email=\"\"\n",
    "if no_email<=0:\n",
    "    print(\"invalid input \")\n",
    "else:\n",
    "    for i in range(no_email):\n",
    "        email=input(\" enter your email : \")\n",
    "        for i in email:\n",
    "            if 'student' in email:\n",
    "                stu_email=stu_email+i\n",
    "if stu_email.count('student')==no_email:\n",
    "    print(\"only student emails were found\")\n",
    "elif prof_email.count('prof')==no_email:\n",
    "    print(\"only professors emails were entered\")\n",
    "else:\n",
    "    print(\"both emails were entered\")"
   ]
  }
 ],
 "metadata": {
  "kernelspec": {
   "display_name": "Python 3 (ipykernel)",
   "language": "python",
   "name": "python3"
  },
  "language_info": {
   "codemirror_mode": {
    "name": "ipython",
    "version": 3
   },
   "file_extension": ".py",
   "mimetype": "text/x-python",
   "name": "python",
   "nbconvert_exporter": "python",
   "pygments_lexer": "ipython3",
   "version": "3.9.13"
  }
 },
 "nbformat": 4,
 "nbformat_minor": 5
}
