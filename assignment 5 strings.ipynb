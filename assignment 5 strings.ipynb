{
 "cells": [
  {
   "cell_type": "markdown",
   "id": "34947772",
   "metadata": {},
   "source": [
    "1. Write a program that asks the user to enter a string. The program should then print the following:\n",
    "\n",
    "(a) The total number of characters in the string\n",
    "\n",
    "(b) The string repeated 10 times\n",
    "\n",
    "(c) The first character of the string (remember that string indices start at 0)\n",
    "\n",
    "(d) The first three characters of the string\n",
    "\n",
    "(e) The last three characters of the string\n",
    "\n",
    "(f) The string backwards\n",
    "\n",
    "(g) The seventh character of the string if the string is long enough and a message otherwise\n",
    "\n",
    "(h) The string with its first and last characters removed\n",
    "\n",
    "(i) The string in all caps\n",
    "\n",
    "(j) The string with every a replaced with an e"
   ]
  },
  {
   "cell_type": "code",
   "execution_count": 134,
   "id": "ce96720f",
   "metadata": {},
   "outputs": [
    {
     "name": "stdout",
     "output_type": "stream",
     "text": [
      " enter your string : sumit chouhan\n",
      "the total numner of characters in the string are 13\n",
      "sumit chouhan sumit chouhan sumit chouhan sumit chouhan sumit chouhan sumit chouhan sumit chouhan sumit chouhan sumit chouhan sumit chouhan \n",
      "the first character of the given string is  s\n",
      "the first three characters of the string are  sum\n",
      "the last three characters of the string are  han\n",
      "the reversed string of sumit chouhan is \n",
      "nahuohc timus\n",
      "The seventh character of the string is c \n",
      "the string with fitst and last charcter reomved  umit chouha\n",
      "the above string with all chatracters capital is : SUMIT CHOUHAN\n",
      "the string with all the a replaced by e is sumit chouhen\n"
     ]
    }
   ],
   "source": [
    "s1=input(\" enter your string : \")\n",
    "n=len(s1)\n",
    "count=0\n",
    "for i in range(n):\n",
    "        count=count+1\n",
    "print(\"the total numner of characters in the string are {}\".format(count))\n",
    "for i in range(10):\n",
    "    print(s1,end=\" \")\n",
    "print('\\nthe first character of the given string is ',s1[0])\n",
    "\n",
    "print(\"the first three characters of the string are \",s1[0:3])\n",
    "\n",
    "print(\"the last three characters of the string are \",s1[-3:])\n",
    "\n",
    "print(\"the reversed string of {} is \".format(s1))\n",
    "for i in reversed(s1):\n",
    "    print(i,end='')\n",
    "\n",
    "if len(s1) >= 7: \n",
    "    print('\\nThe seventh character of the string is {} '.format(s1[6]))\n",
    "else:\n",
    "    print(\"\\nString length is less than 7 characters\")\n",
    "    \n",
    "print(\"the string with fitst and last charcter reomved \",s1.strip(s1[0]).strip(s1[-1]))  \n",
    "\n",
    "print(\"the above string with all chatracters capital is : {}\".format(s1.upper()))\n",
    "\n",
    "print(\"the string with all the a replaced by e is {}\".format(s1.replace('a','e')))"
   ]
  },
  {
   "cell_type": "markdown",
   "id": "8962c819",
   "metadata": {},
   "source": [
    "2. A simple way to estimate the number of words in a string is to count the number of spaces in the\n",
    "string. Write a program that asks the user for a string and returns an estimate of how many words\n",
    "are in the string.\n",
    "Tip: You need to count the number of words using spaces"
   ]
  },
  {
   "cell_type": "code",
   "execution_count": 136,
   "id": "60f1c261",
   "metadata": {},
   "outputs": [
    {
     "name": "stdout",
     "output_type": "stream",
     "text": [
      "enter your string : sumit chouhan bhopal\n",
      "3\n"
     ]
    }
   ],
   "source": [
    "s1=input(\"enter your string : \")\n",
    "count=1\n",
    "for i in range(len(s1)):\n",
    "    if s1[i]==\" \":\n",
    "        count=count+1\n",
    "print(count)"
   ]
  },
  {
   "cell_type": "markdown",
   "id": "7605bd39",
   "metadata": {},
   "source": [
    "3.Write a program that asks the user to enter a word and prints out whether that word contains any\n",
    "vowels."
   ]
  },
  {
   "cell_type": "code",
   "execution_count": 137,
   "id": "7e732212",
   "metadata": {},
   "outputs": [
    {
     "name": "stdout",
     "output_type": "stream",
     "text": [
      "enter a word : nareshit\n",
      "vowels in above string are : \n",
      "a e i "
     ]
    }
   ],
   "source": [
    "s1=input(\"enter a word : \")\n",
    "print(\"vowels in above string are : \")\n",
    "for i in s1:\n",
    "    if i in 'aeiou':\n",
    "        print(i,end=\" \")\n",
    "        "
   ]
  },
  {
   "cell_type": "markdown",
   "id": "4e934e78",
   "metadata": {},
   "source": [
    "4. Improvise above code by providing unique vowels"
   ]
  },
  {
   "cell_type": "code",
   "execution_count": 138,
   "id": "feb01fd1",
   "metadata": {},
   "outputs": [
    {
     "name": "stdout",
     "output_type": "stream",
     "text": [
      "enter a word : summmiitt\n",
      "unique vowels in above string are :  ui\n"
     ]
    }
   ],
   "source": [
    "s1=input(\"enter a word : \")\n",
    "s2=\" \"\n",
    "\n",
    "for i in s1:\n",
    "    if i in 'aeiou':\n",
    "        if i not in s2:\n",
    "            s2=s2+i\n",
    "print(\"unique vowels in above string are :\", s2)\n",
    "        "
   ]
  },
  {
   "cell_type": "markdown",
   "id": "a41c0309",
   "metadata": {},
   "source": [
    "5. Write a program that asks the user to enter a string. The program should create a new string\n",
    "called new_string from the user’s string such that the second character is changed to an asterisk and\n",
    "three exclamation points are attached to the end of the string. Finally, print new_string.\n",
    "\n",
    "\n",
    "Typical output is shown below:\n",
    "\n",
    "Enter your string: Qbert\n",
    "\n",
    "Output: Q*ert!!!"
   ]
  },
  {
   "cell_type": "code",
   "execution_count": 1,
   "id": "808144c5",
   "metadata": {},
   "outputs": [
    {
     "name": "stdout",
     "output_type": "stream",
     "text": [
      " enter string : sumit\n",
      "s*mit!!!\n"
     ]
    }
   ],
   "source": [
    "s1=input(\" enter string : \")\n",
    "a=s1[1]\n",
    "s2=\"!!!\"\n",
    "s1=s1.replace(a,'*')\n",
    "new_string=s1+s2\n",
    "\n",
    "print(new_string)"
   ]
  },
  {
   "cell_type": "markdown",
   "id": "a14105db",
   "metadata": {},
   "source": [
    "6. Write a program that asks the user to enter a word and determines whether the word is a\n",
    "palindrome or not. A palindrome is a word that reads the same backwards as forwards"
   ]
  },
  {
   "cell_type": "code",
   "execution_count": 140,
   "id": "25f5c22b",
   "metadata": {},
   "outputs": [
    {
     "name": "stdout",
     "output_type": "stream",
     "text": [
      "enter your word : bob\n",
      "yes the word is palindrome \n"
     ]
    }
   ],
   "source": [
    "s1 = input(\"enter your word : \")\n",
    "s2 = ''\n",
    "for i in reversed(s1):\n",
    "    s2 = s2 + i   \n",
    "if s1 == s2:    \n",
    "    print(\"yes the word is palindrome \")\n",
    "else:\n",
    "    print(\"no the word is not palindrome\")\n"
   ]
  },
  {
   "cell_type": "markdown",
   "id": "93bb845c",
   "metadata": {},
   "source": [
    "7. At a certain school, student email addresses end with @student.college.edu, while professor\n",
    "email addresses end with @prof.college.edu. Write a program that first asks the user how many\n",
    "email addresses they will be entering, and then has the user enter those addresses. After all the\n",
    "email addresses are entered, the program should print out a message indicating either that all the\n",
    "addresses are student addresses or that there were some professor addresses entered."
   ]
  },
  {
   "cell_type": "code",
   "execution_count": 143,
   "id": "af89a88a",
   "metadata": {},
   "outputs": [
    {
     "name": "stdout",
     "output_type": "stream",
     "text": [
      " Enter the number of email addresses you want to enter3\n",
      " enter your email : sumit@student.college.edu\n",
      " enter your email : aditya@student.college.edu\n",
      " enter your email : omkaar@prof.college.edu\n",
      "professor emails were also entered\n"
     ]
    }
   ],
   "source": [
    "no_email=int(input(\" Enter the number of email addresses you want to enter\"))\n",
    "stu_email=\"\"\n",
    "if no_email<=0:\n",
    "    print(\"invalid input \")\n",
    "else:\n",
    "    for i in range(no_email):\n",
    "        email=input(\" enter your email : \")\n",
    "        for i in email:\n",
    "            if 'student' in email:\n",
    "                stu_email=stu_email+i\n",
    "if stu_email.count('student')==no_email:\n",
    "    print(\"only student emails were found\")\n",
    "else:\n",
    "    print(\"professor emails were also entered\")\n",
    "                 "
   ]
  },
  {
   "cell_type": "markdown",
   "id": "48a658aa",
   "metadata": {},
   "source": [
    "8. Write a program that asks the user to enter a string, then prints out each letter of the string\n",
    "doubled and on a separate line. For instance,\n",
    "\n",
    "if the user entered HEY,\n",
    "\n",
    "the output would be\n",
    "\n",
    "HH\n",
    "\n",
    "EE\n",
    "\n",
    "YY"
   ]
  },
  {
   "cell_type": "code",
   "execution_count": 144,
   "id": "16508df7",
   "metadata": {},
   "outputs": [
    {
     "name": "stdout",
     "output_type": "stream",
     "text": [
      "enter your string : hey\n",
      "hh\n",
      "ee\n",
      "yy\n"
     ]
    }
   ],
   "source": [
    "s1=input(\"enter your string : \")\n",
    "for i in s1:\n",
    "    print(2*i)"
   ]
  },
  {
   "cell_type": "markdown",
   "id": "253ebe87",
   "metadata": {},
   "source": [
    "9.Write a program that asks the user to enter a word that contains the letter a. The program should\n",
    "then print the following two lines: On the first line should be the part of the string up to and\n",
    "including the the first a, and on the second line should be the rest of the string.\n",
    "\n",
    "Sample output is shown below:\n",
    "\n",
    "Enter a word: buffalo\n",
    "\n",
    "buffa\n",
    "\n",
    "lo"
   ]
  },
  {
   "cell_type": "code",
   "execution_count": 145,
   "id": "b2fad138",
   "metadata": {},
   "outputs": [
    {
     "name": "stdout",
     "output_type": "stream",
     "text": [
      "enter a string containing a : buffalo\n",
      "buffa\n",
      "lo\n"
     ]
    }
   ],
   "source": [
    "s1=input(\"enter a string containing a : \")\n",
    "n1=s1.find('a')\n",
    "print(s1[:n1+1])\n",
    "print(s1[n1+1:])"
   ]
  },
  {
   "cell_type": "markdown",
   "id": "938f2fd2",
   "metadata": {},
   "source": [
    "10. Write a program that asks the user to enter a word and then capitalizes every other letter of that\n",
    "word.\n",
    "\n",
    "So if the user enters rhinoceros,\n",
    "\n",
    "the program should print rHiNoCeRoS."
   ]
  },
  {
   "cell_type": "code",
   "execution_count": 146,
   "id": "72a9bd06",
   "metadata": {},
   "outputs": [
    {
     "name": "stdout",
     "output_type": "stream",
     "text": [
      "enter your string: sumit\n",
      "sUmIt\n"
     ]
    }
   ],
   "source": [
    "s1=input(\"enter your string: \")\n",
    "s2=''\n",
    "n=len(s1)\n",
    "for i in range(n):\n",
    "    if i%2!=0:\n",
    "        s2=s2+s1[i].upper()\n",
    "    else:\n",
    "        s2=s2+s1[i].lower()\n",
    "print(s2)        "
   ]
  },
  {
   "cell_type": "markdown",
   "id": "314dfae2",
   "metadata": {},
   "source": [
    "11. Write a program that asks the user to enter two strings of the same length. The program should\n",
    "then check to see if the strings are of the same length. If they are not, the program should print an\n",
    "appropriate message and exit. If they are of the same length, the program should alternate the\n",
    "characters of the two strings. For example,\n",
    "\n",
    "if the user enters abcde and ABCDE\n",
    "\n",
    "the program should print out AaBbCcDdEe."
   ]
  },
  {
   "cell_type": "code",
   "execution_count": 147,
   "id": "574de1b5",
   "metadata": {},
   "outputs": [
    {
     "name": "stdout",
     "output_type": "stream",
     "text": [
      "enter your string: abcde\n",
      "enter second string with same length as above string : ABCDE\n",
      "AaBbCcDdEe\n"
     ]
    }
   ],
   "source": [
    "s1=input(\"enter your string: \")\n",
    "s2=input(\"enter second string with same length as above string : \")\n",
    "s3=''\n",
    "if len(s1)==len(s2):\n",
    "    for i in range(len(s1)):        \n",
    "        s3=s3+s2[i]\n",
    "        s3=s3+s1[i]\n",
    "else:\n",
    "    print(\" string length not equal\")\n",
    "print(s3)       "
   ]
  },
  {
   "cell_type": "code",
   "execution_count": 148,
   "id": "8568faea",
   "metadata": {},
   "outputs": [
    {
     "name": "stdout",
     "output_type": "stream",
     "text": [
      "enter your string: abcde\n",
      "enter second string with same length as above string : ABCDE\n",
      "AaBbCcDdEe\n"
     ]
    }
   ],
   "source": [
    "s1=input(\"enter your string: \")\n",
    "s2=input(\"enter second string with same length as above string : \")\n",
    "s3=''\n",
    "if len(s1)==len(s2):\n",
    "    for i in range(len(s1)):\n",
    "        if i%2!=0:\n",
    "            s3=s3+s1[i].upper()\n",
    "            s3=s3+s1[i].lower()\n",
    "        if i%2==0:\n",
    "            s3=s3+s2[i].upper()\n",
    "            s3=s3+s2[i].lower()\n",
    "else:\n",
    "    print(\"string length not equal\")\n",
    "print(s3)"
   ]
  },
  {
   "cell_type": "markdown",
   "id": "abb2b6af",
   "metadata": {},
   "source": [
    "12. Write a program that asks the user to enter their name in lowercase and then capitalizes the first\n",
    "letter of each word of their name."
   ]
  },
  {
   "cell_type": "code",
   "execution_count": 4,
   "id": "accd199e",
   "metadata": {},
   "outputs": [
    {
     "name": "stdout",
     "output_type": "stream",
     "text": [
      "enter your name in lowercase : sumit chouhan\n",
      "['Sumit', 'Chouhan']\n"
     ]
    }
   ],
   "source": [
    "s1=input(\"enter your name in lowercase : \").split()\n",
    "l2=[]\n",
    "for i in s1:\n",
    "    c=i.capitalize()\n",
    "    l2.append(c)     \n",
    "print(l2)    "
   ]
  },
  {
   "cell_type": "code",
   "execution_count": 150,
   "id": "11a07595",
   "metadata": {},
   "outputs": [
    {
     "name": "stdout",
     "output_type": "stream",
     "text": [
      "Enter your name in lowercase: sumit chouhan\n",
      "Sumit Chouhan\n"
     ]
    }
   ],
   "source": [
    "\n",
    "\n",
    "n= input(\"Enter your name in lowercase: \")\n",
    "for i in n:\n",
    "    c=n.title()\n",
    "print(c)    "
   ]
  },
  {
   "cell_type": "markdown",
   "id": "ebc8d38e",
   "metadata": {},
   "source": [
    "13. The goal of this exercise is to see if you can mimic the behavior of the in operator and the count\n",
    "\n",
    "and index methods using only variables, for loops, and if statements.\n",
    "\n",
    "(a) Without using the in operator, write a program that asks the user for a string and a letter\n",
    "and prints out whether or not the letter appears in the string.\n",
    "\n",
    "(b) Without using the count method, write a program that asks the user for a string and a\n",
    "letter and counts how many occurrences there are of the letter in the string.\n",
    "\n",
    "(c) Without using the index method, write a program that asks the user for a string and a\n",
    "letter and prints out the index of the first occurrence of the letter in the string. If the letter is\n",
    "not in the string, the program should say so."
   ]
  },
  {
   "cell_type": "code",
   "execution_count": 79,
   "id": "ceb7d3fb",
   "metadata": {},
   "outputs": [
    {
     "name": "stdout",
     "output_type": "stream",
     "text": [
      " enter your string : sumit\n",
      " enter the letter you want to find in your string : i\n",
      " it is found in the string\n"
     ]
    }
   ],
   "source": [
    "#q1\n",
    "s1=input(\" enter your string : \")\n",
    "letter=input(\" enter the letter you want to find in your string : \")\n",
    "res=False\n",
    "for i in s1:\n",
    "    if i==letter:\n",
    "        res=True\n",
    "if res:\n",
    "    print(\" it is found in the string\")\n",
    "else:\n",
    "    print(\" it doesnt fond\")"
   ]
  },
  {
   "cell_type": "code",
   "execution_count": 44,
   "id": "d969ef45",
   "metadata": {},
   "outputs": [
    {
     "name": "stdout",
     "output_type": "stream",
     "text": [
      " enter your string : sumit chouhan bhopal\n",
      " enter the letter you want to find in your string : o\n",
      "there are 2 occurences of o in your string\n"
     ]
    }
   ],
   "source": [
    "#q1\n",
    "s1=input(\" enter your string : \")\n",
    "letter=input(\" enter the letter you want to find in your string : \")\n",
    "count=0\n",
    "for i in range(len(s1)):\n",
    "    if s1[i]==letter:\n",
    "        count=count+1\n",
    "print('there are {} occurences of {} in your string'.format(count,letter))    \n",
    "    \n"
   ]
  },
  {
   "cell_type": "code",
   "execution_count": 97,
   "id": "8c2df931",
   "metadata": {},
   "outputs": [
    {
     "name": "stdout",
     "output_type": "stream",
     "text": [
      " enter your string : sumit\n",
      " enter the letter you want to find in your string : i\n",
      " found at index :  3\n"
     ]
    }
   ],
   "source": [
    "#q3\n",
    "s1=input(\" enter your string : \")\n",
    "letter=input(\" enter the letter you want to find in your string : \")\n",
    "res==False\n",
    "for i in range(len(s1)):\n",
    "    if letter==s1[i]:\n",
    "        res==True\n",
    "        print(' found at index : ',i)\n",
    "\n",
    "if res==False:\n",
    "    print(' it doesnt found')\n",
    "        \n",
    "        \n",
    "        \n",
    "        "
   ]
  },
  {
   "cell_type": "markdown",
   "id": "03a4c406",
   "metadata": {},
   "source": [
    "14. Finding a substring within a string\n",
    "\n",
    "For example, if we were presented a series of lines formatted as follows:\n",
    "\n",
    "From stephen.marquard@uct.ac.za Sat Jan 5 09:14:16 2008\n",
    "\n",
    "and we wanted to pull out only the second half of the address (i.e., uct.ac.za)"
   ]
  },
  {
   "cell_type": "code",
   "execution_count": 120,
   "id": "e9b1edda",
   "metadata": {},
   "outputs": [
    {
     "name": "stdout",
     "output_type": "stream",
     "text": [
      "uct.ac.za\n"
     ]
    }
   ],
   "source": [
    "s1='From stephen.marquard@uct.ac.za Sat Jan 5 09:14:16 2008'\n",
    "i1=s1.find('u')\n",
    "i2=s1.find(' ')\n",
    "i3=s1.find('u',i1+1)\n",
    "i4=s1.find(' ',i2+1)\n",
    "print(s1[i3:i4])\n"
   ]
  },
  {
   "cell_type": "markdown",
   "id": "b75f4f22",
   "metadata": {},
   "source": [
    "15. Write a Python program to add &#39;ing&#39; at the end of a given string (length should be at least 3). If the\n",
    "given string already ends with &#39;ing&#39; then add &#39;ly&#39; instead.\n",
    "\n",
    "If the string length of the given string is less than 3, leave it unchanged.\n",
    "\n",
    "Go to the editor\n",
    "\n",
    "Sample String : &#39;abc&#39;\n",
    "\n",
    "Expected Result : &#39;abcing&#39;\n",
    "\n",
    "Sample String : &#39;string&#39;\n",
    "\n",
    "Expected Result : &#39;stringly&#39;"
   ]
  },
  {
   "cell_type": "code",
   "execution_count": 133,
   "id": "b33b435c",
   "metadata": {},
   "outputs": [
    {
     "name": "stdout",
     "output_type": "stream",
     "text": [
      "swing\n",
      "swingly\n"
     ]
    }
   ],
   "source": [
    "s1=input()\n",
    "ing='ing'\n",
    "ly='ly'\n",
    "if len(s1)>=3:\n",
    "    if s1[-3:]==ing:\n",
    "        s1=s1+ly\n",
    "    else:\n",
    "        s1=s1+ing\n",
    "print(s1)        \n",
    "    "
   ]
  },
  {
   "cell_type": "markdown",
   "id": "3c3797bb",
   "metadata": {},
   "source": [
    "16. Take the following Python code that stores a string:‘\n",
    "\n",
    "string = &#39;X-DSPAM-Confidence: 0.8475&#39;\n",
    "\n",
    "Extract the portion of the string after the colon character and then use the float function to convert\n",
    "the extracted string into a floating point number."
   ]
  },
  {
   "cell_type": "code",
   "execution_count": 130,
   "id": "30df0b6a",
   "metadata": {},
   "outputs": [
    {
     "data": {
      "text/plain": [
       "(0.8475, float)"
      ]
     },
     "execution_count": 130,
     "metadata": {},
     "output_type": "execute_result"
    }
   ],
   "source": [
    "string = 'X-DSPAM-Confidence: 0.8475'\n",
    "n1=string.index('0')\n",
    "numm=float(string[n1:])\n",
    "numm,type(numm)\n"
   ]
  },
  {
   "cell_type": "code",
   "execution_count": null,
   "id": "037ce604",
   "metadata": {},
   "outputs": [],
   "source": []
  }
 ],
 "metadata": {
  "kernelspec": {
   "display_name": "Python 3 (ipykernel)",
   "language": "python",
   "name": "python3"
  },
  "language_info": {
   "codemirror_mode": {
    "name": "ipython",
    "version": 3
   },
   "file_extension": ".py",
   "mimetype": "text/x-python",
   "name": "python",
   "nbconvert_exporter": "python",
   "pygments_lexer": "ipython3",
   "version": "3.9.13"
  }
 },
 "nbformat": 4,
 "nbformat_minor": 5
}
