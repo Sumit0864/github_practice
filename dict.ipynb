{
 "cells": [
  {
   "cell_type": "code",
   "execution_count": 1,
   "id": "93711690",
   "metadata": {},
   "outputs": [
    {
     "data": {
      "text/plain": [
       "['hai', 'how', 'are', 'you']"
      ]
     },
     "execution_count": 1,
     "metadata": {},
     "output_type": "execute_result"
    }
   ],
   "source": [
    "# we are splitting\n",
    "# the output inthe form list\n",
    "str1='hai how are you'\n",
    "l1=str1.split()\n",
    "l1"
   ]
  },
  {
   "cell_type": "code",
   "execution_count": 2,
   "id": "b16ae26c",
   "metadata": {},
   "outputs": [
    {
     "data": {
      "text/plain": [
       "['hai', 'how', 'are', 'you']"
      ]
     },
     "execution_count": 2,
     "metadata": {},
     "output_type": "execute_result"
    }
   ],
   "source": [
    "# Now we have list of elements are there\n",
    "# we want to join\n",
    "l1"
   ]
  },
  {
   "cell_type": "code",
   "execution_count": 9,
   "id": "10772a4a",
   "metadata": {},
   "outputs": [
    {
     "data": {
      "text/plain": [
       "'hai how are you'"
      ]
     },
     "execution_count": 9,
     "metadata": {},
     "output_type": "execute_result"
    }
   ],
   "source": [
    "' '.join(l1)"
   ]
  },
  {
   "cell_type": "code",
   "execution_count": 18,
   "id": "6ec84a08",
   "metadata": {},
   "outputs": [
    {
     "data": {
      "text/plain": [
       "'haihowareyou'"
      ]
     },
     "execution_count": 18,
     "metadata": {},
     "output_type": "execute_result"
    }
   ],
   "source": [
    "s=''\n",
    "for i in l1:\n",
    "    s=s+i\n",
    "s"
   ]
  },
  {
   "cell_type": "markdown",
   "id": "bf5afba3",
   "metadata": {},
   "source": [
    "# zip"
   ]
  },
  {
   "cell_type": "code",
   "execution_count": 20,
   "id": "83887587",
   "metadata": {},
   "outputs": [
    {
     "name": "stdout",
     "output_type": "stream",
     "text": [
      "Ramesh 20\n",
      "Suresh 25\n",
      "Sathish 30\n"
     ]
    }
   ],
   "source": [
    "names=['Ramesh','Suresh','Sathish']\n",
    "age=[20,25,30]\n",
    "# Ramesh age is 20\n",
    "# Suresh age is 25\n",
    "# Sathish age is 30\n",
    "for i in range(len(names)):\n",
    "    print(names[i],age[i])"
   ]
  },
  {
   "cell_type": "code",
   "execution_count": 21,
   "id": "9c2dd4c2",
   "metadata": {},
   "outputs": [
    {
     "name": "stdout",
     "output_type": "stream",
     "text": [
      "Ramesh 20\n",
      "Suresh 25\n",
      "Sathish 30\n"
     ]
    }
   ],
   "source": [
    "for i,j in zip(names,age):\n",
    "    print(i,j)"
   ]
  },
  {
   "cell_type": "code",
   "execution_count": null,
   "id": "710c96cf",
   "metadata": {},
   "outputs": [],
   "source": [
    "names=['Ramesh','Suresh','Sathish']\n",
    "age=[20,25,30]\n",
    "If both are together why two lists ===== Dictionary"
   ]
  },
  {
   "cell_type": "code",
   "execution_count": 22,
   "id": "def386cf",
   "metadata": {},
   "outputs": [
    {
     "data": {
      "text/plain": [
       "{'Ramesh': 20, 'Suresh': 25, 'Sathish': 30}"
      ]
     },
     "execution_count": 22,
     "metadata": {},
     "output_type": "execute_result"
    }
   ],
   "source": [
    "#{<key>:<value>}\n",
    "d1={\"Ramesh\":20,\"Suresh\":25,\"Sathish\":30}\n",
    "d1\n",
    "# Ramesh\n",
    "# Suresh\n",
    "# Sathish are keys\n",
    "# 20 25 30 are values\n",
    "# key:value pair together"
   ]
  },
  {
   "cell_type": "code",
   "execution_count": 23,
   "id": "90d77e64",
   "metadata": {},
   "outputs": [
    {
     "ename": "SyntaxError",
     "evalue": "invalid syntax (691309419.py, line 5)",
     "output_type": "error",
     "traceback": [
      "\u001b[1;36m  File \u001b[1;32m\"C:\\Users\\hp\\AppData\\Local\\Temp\\ipykernel_22500\\691309419.py\"\u001b[1;36m, line \u001b[1;32m5\u001b[0m\n\u001b[1;33m    d5={$:'30'} # Fail\u001b[0m\n\u001b[1;37m        ^\u001b[0m\n\u001b[1;31mSyntaxError\u001b[0m\u001b[1;31m:\u001b[0m invalid syntax\n"
     ]
    }
   ],
   "source": [
    "d1={\"Ramesh\":20,\"Suresh\":25,\"Sathish\":30}\n",
    "d2={20:\"Ramesh\",25:\"Suresh\",30:\"Sathish\"}\n",
    "d3={20:20}\n",
    "d4={'$':'30'}\n",
    "d5={$:'30'} # Fail\n",
    "# spl cahracters should not be a key\n"
   ]
  },
  {
   "cell_type": "code",
   "execution_count": 24,
   "id": "62b1d86b",
   "metadata": {},
   "outputs": [
    {
     "ename": "SyntaxError",
     "evalue": "invalid syntax (814398154.py, line 1)",
     "output_type": "error",
     "traceback": [
      "\u001b[1;36m  File \u001b[1;32m\"C:\\Users\\hp\\AppData\\Local\\Temp\\ipykernel_22500\\814398154.py\"\u001b[1;36m, line \u001b[1;32m1\u001b[0m\n\u001b[1;33m    d6={'30':$}\u001b[0m\n\u001b[1;37m             ^\u001b[0m\n\u001b[1;31mSyntaxError\u001b[0m\u001b[1;31m:\u001b[0m invalid syntax\n"
     ]
    }
   ],
   "source": [
    "d6={'30':$}\n",
    "d6"
   ]
  },
  {
   "cell_type": "code",
   "execution_count": 25,
   "id": "d3cc3343",
   "metadata": {},
   "outputs": [
    {
     "data": {
      "text/plain": [
       "{'names': ['R', 'S', 'A']}"
      ]
     },
     "execution_count": 25,
     "metadata": {},
     "output_type": "execute_result"
    }
   ],
   "source": [
    "d7={'names':['R','S','A']}\n",
    "d7\n",
    "# List can be value"
   ]
  },
  {
   "cell_type": "code",
   "execution_count": 26,
   "id": "6c78cb1c",
   "metadata": {},
   "outputs": [
    {
     "ename": "TypeError",
     "evalue": "unhashable type: 'list'",
     "output_type": "error",
     "traceback": [
      "\u001b[1;31m---------------------------------------------------------------------------\u001b[0m",
      "\u001b[1;31mTypeError\u001b[0m                                 Traceback (most recent call last)",
      "\u001b[1;32m~\\AppData\\Local\\Temp\\ipykernel_22500\\1812564625.py\u001b[0m in \u001b[0;36m<module>\u001b[1;34m\u001b[0m\n\u001b[1;32m----> 1\u001b[1;33m \u001b[0md8\u001b[0m\u001b[1;33m=\u001b[0m\u001b[1;33m{\u001b[0m\u001b[1;33m[\u001b[0m\u001b[1;34m'R'\u001b[0m\u001b[1;33m,\u001b[0m\u001b[1;34m'S'\u001b[0m\u001b[1;33m,\u001b[0m\u001b[1;34m'A'\u001b[0m\u001b[1;33m]\u001b[0m\u001b[1;33m:\u001b[0m\u001b[1;34m'names'\u001b[0m\u001b[1;33m}\u001b[0m\u001b[1;33m\u001b[0m\u001b[1;33m\u001b[0m\u001b[0m\n\u001b[0m\u001b[0;32m      2\u001b[0m \u001b[0md8\u001b[0m\u001b[1;33m\u001b[0m\u001b[1;33m\u001b[0m\u001b[0m\n\u001b[0;32m      3\u001b[0m \u001b[1;31m# List can not be a key\u001b[0m\u001b[1;33m\u001b[0m\u001b[1;33m\u001b[0m\u001b[0m\n",
      "\u001b[1;31mTypeError\u001b[0m: unhashable type: 'list'"
     ]
    }
   ],
   "source": [
    "d8={['R','S','A']:'names'}\n",
    "d8\n",
    "# List can not be a key"
   ]
  },
  {
   "cell_type": "code",
   "execution_count": 27,
   "id": "26a1e9de",
   "metadata": {},
   "outputs": [
    {
     "data": {
      "text/plain": [
       "{('R', 'S', 'A'): 'names'}"
      ]
     },
     "execution_count": 27,
     "metadata": {},
     "output_type": "execute_result"
    }
   ],
   "source": [
    "d9={('R','S','A'):'names'}\n",
    "d9"
   ]
  },
  {
   "cell_type": "code",
   "execution_count": 28,
   "id": "eed228f4",
   "metadata": {},
   "outputs": [
    {
     "data": {
      "text/plain": [
       "{'names': ('R', 'S', 'A')}"
      ]
     },
     "execution_count": 28,
     "metadata": {},
     "output_type": "execute_result"
    }
   ],
   "source": [
    "d10={'names':('R','S','A')}\n",
    "d10"
   ]
  },
  {
   "cell_type": "code",
   "execution_count": 29,
   "id": "8ed552fb",
   "metadata": {},
   "outputs": [
    {
     "data": {
      "text/plain": [
       "{('I', 'N', 'D'): ('R', 'S', 'A')}"
      ]
     },
     "execution_count": 29,
     "metadata": {},
     "output_type": "execute_result"
    }
   ],
   "source": [
    "d11={('I','N','D'):('R','S','A')}\n",
    "d11"
   ]
  },
  {
   "cell_type": "code",
   "execution_count": 30,
   "id": "82751bd7",
   "metadata": {},
   "outputs": [
    {
     "data": {
      "text/plain": [
       "{'Names': {'Fruites': 'Apple'}}"
      ]
     },
     "execution_count": 30,
     "metadata": {},
     "output_type": "execute_result"
    }
   ],
   "source": [
    "d={'Fruites':'Apple'}\n",
    "d12={\"Names\":d}\n",
    "d12"
   ]
  },
  {
   "cell_type": "code",
   "execution_count": 31,
   "id": "48b07217",
   "metadata": {},
   "outputs": [
    {
     "ename": "TypeError",
     "evalue": "unhashable type: 'dict'",
     "output_type": "error",
     "traceback": [
      "\u001b[1;31m---------------------------------------------------------------------------\u001b[0m",
      "\u001b[1;31mTypeError\u001b[0m                                 Traceback (most recent call last)",
      "\u001b[1;32m~\\AppData\\Local\\Temp\\ipykernel_22500\\50692259.py\u001b[0m in \u001b[0;36m<module>\u001b[1;34m\u001b[0m\n\u001b[0;32m      1\u001b[0m \u001b[0md\u001b[0m\u001b[1;33m=\u001b[0m\u001b[1;33m{\u001b[0m\u001b[1;34m'Fruites'\u001b[0m\u001b[1;33m:\u001b[0m\u001b[1;34m'Apple'\u001b[0m\u001b[1;33m}\u001b[0m\u001b[1;33m\u001b[0m\u001b[1;33m\u001b[0m\u001b[0m\n\u001b[1;32m----> 2\u001b[1;33m \u001b[0md13\u001b[0m\u001b[1;33m=\u001b[0m\u001b[1;33m{\u001b[0m\u001b[0md\u001b[0m\u001b[1;33m:\u001b[0m\u001b[1;34m'names'\u001b[0m\u001b[1;33m}\u001b[0m\u001b[1;33m\u001b[0m\u001b[1;33m\u001b[0m\u001b[0m\n\u001b[0m\u001b[0;32m      3\u001b[0m \u001b[0md13\u001b[0m\u001b[1;33m\u001b[0m\u001b[1;33m\u001b[0m\u001b[0m\n",
      "\u001b[1;31mTypeError\u001b[0m: unhashable type: 'dict'"
     ]
    }
   ],
   "source": [
    "d={'Fruites':'Apple'}\n",
    "d13={d:'names'}\n",
    "d13"
   ]
  },
  {
   "cell_type": "code",
   "execution_count": 32,
   "id": "3aa91136",
   "metadata": {},
   "outputs": [],
   "source": [
    "# dictionary and list can not be represent as keys"
   ]
  },
  {
   "cell_type": "code",
   "execution_count": null,
   "id": "251d6b2f",
   "metadata": {},
   "outputs": [],
   "source": [
    "################## Pass ##################\n",
    "d1={\"Ramesh\":20,\"Suresh\":25,\"Sathish\":30}\n",
    "d2={20:\"Ramesh\",25:\"Suresh\",30:\"Sathish\"}\n",
    "d3={20:20}\n",
    "d4={'$':'30'}\n",
    "d5={'names':['I','N','D']}\n",
    "d6={'names':('I','N','D')}\n",
    "d7={('I','N','D'):'names'}\n",
    "d8={\"Names\":{'Fruites':'Apple'}}\n",
    "\n",
    "############### Fail ###################\n",
    "d9={$:'30'}\n",
    "d10={['I','N','D']:'names'}\n",
    "d11={{'Fruites':'Apple'}:\"Names\"}\n"
   ]
  },
  {
   "cell_type": "code",
   "execution_count": 33,
   "id": "152d2d73",
   "metadata": {},
   "outputs": [
    {
     "data": {
      "text/plain": [
       "{'Ramesh': 25}"
      ]
     },
     "execution_count": 33,
     "metadata": {},
     "output_type": "execute_result"
    }
   ],
   "source": [
    "d1={\"Ramesh\":20,\"Ramesh\":25}\n",
    "d1\n",
    "# Duplicate keys are not allowed"
   ]
  },
  {
   "cell_type": "code",
   "execution_count": 34,
   "id": "c17737a1",
   "metadata": {},
   "outputs": [
    {
     "data": {
      "text/plain": [
       "{'Ramesh': 20, 'Suresh': 20}"
      ]
     },
     "execution_count": 34,
     "metadata": {},
     "output_type": "execute_result"
    }
   ],
   "source": [
    "d2={\"Ramesh\":20,\"Suresh\":20}\n",
    "d2\n",
    "# Duplicate values are allowed"
   ]
  },
  {
   "cell_type": "markdown",
   "id": "04d84771",
   "metadata": {},
   "source": [
    "- max\n",
    "- min\n",
    "- len\n",
    "- sum\n",
    "\n",
    "Watch only keys"
   ]
  },
  {
   "cell_type": "code",
   "execution_count": 39,
   "id": "988f286e",
   "metadata": {},
   "outputs": [
    {
     "data": {
      "text/plain": [
       "'Suresh'"
      ]
     },
     "execution_count": 39,
     "metadata": {},
     "output_type": "execute_result"
    }
   ],
   "source": [
    "d1={\"Ramesh\":20,\"Suresh\":25,\"Sathish\":30}\n",
    "max(d1)\n"
   ]
  },
  {
   "cell_type": "code",
   "execution_count": 40,
   "id": "2404a713",
   "metadata": {},
   "outputs": [
    {
     "data": {
      "text/plain": [
       "'Ramesh'"
      ]
     },
     "execution_count": 40,
     "metadata": {},
     "output_type": "execute_result"
    }
   ],
   "source": [
    "min(d1)"
   ]
  },
  {
   "cell_type": "code",
   "execution_count": 41,
   "id": "9cb7ffeb",
   "metadata": {},
   "outputs": [
    {
     "data": {
      "text/plain": [
       "3"
      ]
     },
     "execution_count": 41,
     "metadata": {},
     "output_type": "execute_result"
    }
   ],
   "source": [
    "len(d1)"
   ]
  },
  {
   "cell_type": "code",
   "execution_count": 42,
   "id": "08503f7d",
   "metadata": {},
   "outputs": [
    {
     "ename": "TypeError",
     "evalue": "unsupported operand type(s) for +: 'int' and 'str'",
     "output_type": "error",
     "traceback": [
      "\u001b[1;31m---------------------------------------------------------------------------\u001b[0m",
      "\u001b[1;31mTypeError\u001b[0m                                 Traceback (most recent call last)",
      "\u001b[1;32m~\\AppData\\Local\\Temp\\ipykernel_22500\\1736712078.py\u001b[0m in \u001b[0;36m<module>\u001b[1;34m\u001b[0m\n\u001b[1;32m----> 1\u001b[1;33m \u001b[0msum\u001b[0m\u001b[1;33m(\u001b[0m\u001b[0md1\u001b[0m\u001b[1;33m)\u001b[0m\u001b[1;33m\u001b[0m\u001b[1;33m\u001b[0m\u001b[0m\n\u001b[0m",
      "\u001b[1;31mTypeError\u001b[0m: unsupported operand type(s) for +: 'int' and 'str'"
     ]
    }
   ],
   "source": [
    "sum(d1)"
   ]
  },
  {
   "cell_type": "code",
   "execution_count": 43,
   "id": "053ef784",
   "metadata": {},
   "outputs": [
    {
     "data": {
      "text/plain": [
       "75"
      ]
     },
     "execution_count": 43,
     "metadata": {},
     "output_type": "execute_result"
    }
   ],
   "source": [
    "d2={20:\"Ramesh\",25:\"Suresh\",30:\"Sathish\"}\n",
    "sum(d2)"
   ]
  },
  {
   "cell_type": "code",
   "execution_count": 46,
   "id": "fea2fe41",
   "metadata": {},
   "outputs": [
    {
     "data": {
      "text/plain": [
       "['Ramesh', 'Sathish', 'Suresh']"
      ]
     },
     "execution_count": 46,
     "metadata": {},
     "output_type": "execute_result"
    }
   ],
   "source": [
    "d1={\"Ramesh\":20,\"Suresh\":25,\"Sathish\":30}\n",
    "\n",
    "sorted(d1)\n"
   ]
  },
  {
   "cell_type": "code",
   "execution_count": 47,
   "id": "200982a4",
   "metadata": {},
   "outputs": [
    {
     "name": "stdout",
     "output_type": "stream",
     "text": [
      "Sathish\n",
      "Suresh\n",
      "Ramesh\n"
     ]
    }
   ],
   "source": [
    "for i in reversed(d1):\n",
    "    print(i)"
   ]
  },
  {
   "cell_type": "code",
   "execution_count": 48,
   "id": "7066bea5",
   "metadata": {},
   "outputs": [
    {
     "ename": "TypeError",
     "evalue": "unsupported operand type(s) for +: 'int' and 'str'",
     "output_type": "error",
     "traceback": [
      "\u001b[1;31m---------------------------------------------------------------------------\u001b[0m",
      "\u001b[1;31mTypeError\u001b[0m                                 Traceback (most recent call last)",
      "\u001b[1;32m~\\AppData\\Local\\Temp\\ipykernel_22500\\1529856619.py\u001b[0m in \u001b[0;36m<module>\u001b[1;34m\u001b[0m\n\u001b[0;32m      2\u001b[0m \u001b[0ml2\u001b[0m\u001b[1;33m=\u001b[0m\u001b[1;33m[\u001b[0m\u001b[1;36m20\u001b[0m\u001b[1;33m,\u001b[0m\u001b[1;36m25\u001b[0m\u001b[1;33m,\u001b[0m\u001b[1;36m30\u001b[0m\u001b[1;33m]\u001b[0m\u001b[1;33m\u001b[0m\u001b[1;33m\u001b[0m\u001b[0m\n\u001b[0;32m      3\u001b[0m \u001b[0msum\u001b[0m\u001b[1;33m(\u001b[0m\u001b[0ml2\u001b[0m\u001b[1;33m)\u001b[0m\u001b[1;33m\u001b[0m\u001b[1;33m\u001b[0m\u001b[0m\n\u001b[1;32m----> 4\u001b[1;33m \u001b[0msum\u001b[0m\u001b[1;33m(\u001b[0m\u001b[0ml1\u001b[0m\u001b[1;33m)\u001b[0m \u001b[1;31m# fail\u001b[0m\u001b[1;33m\u001b[0m\u001b[1;33m\u001b[0m\u001b[0m\n\u001b[0m",
      "\u001b[1;31mTypeError\u001b[0m: unsupported operand type(s) for +: 'int' and 'str'"
     ]
    }
   ],
   "source": [
    "l1=['Ramesh','Suresh','Sathish']\n",
    "l2=[20,25,30]\n",
    "sum(l2)\n",
    "sum(l1) # fail"
   ]
  },
  {
   "cell_type": "markdown",
   "id": "742b7d4a",
   "metadata": {},
   "source": [
    "d1={\"Ramesh\":20,\"Suresh\":25,\"Sathish\":30}\n",
    "sum(d1) # Error\n",
    "max(d1) # Sure\n",
    "min(d1) # Rame\n",
    "len(d1) # 3\n",
    "d2={20:\"Ramesh\",25:\"Suresh\",30:\"Sathish\"}\n",
    "sum(d2) # 75\n",
    "max(d1) # 30\n",
    "min(d1) # 20\n",
    "len(d1) # 3\n",
    "d2={20:\"Ramesh\",'Suresh':30}\n",
    "max(d2) # E\n",
    "min(d2) # E\n",
    "sum(d2) # E\n",
    "len(d2) # 2"
   ]
  },
  {
   "cell_type": "markdown",
   "id": "07f20f94",
   "metadata": {},
   "source": [
    "# index"
   ]
  },
  {
   "cell_type": "code",
   "execution_count": 52,
   "id": "8386c563",
   "metadata": {},
   "outputs": [
    {
     "name": "stdout",
     "output_type": "stream",
     "text": [
      "Ramesh 20\n",
      "Suresh 25\n",
      "Sathish 30\n"
     ]
    }
   ],
   "source": [
    "d1={\"Ramesh\":20,\"Suresh\":25,\"Sathish\":30}\n",
    "# Normal index will not work for dictionary\n",
    "#d1[0] # Error\n",
    "# If you want retrive the value, by using key we can get\n",
    "d1['Ramesh']\n",
    "d1['Suresh']\n",
    "d1['Sathish']\n",
    "d1[i]\n",
    "for i in d1:\n",
    "    print(i,d1[i])"
   ]
  },
  {
   "cell_type": "code",
   "execution_count": null,
   "id": "38f18455",
   "metadata": {},
   "outputs": [],
   "source": [
    "# WAP ask the user generate 10 random numbers\n",
    "# Find the even number and odd number\n",
    "# output:\n",
    "#{'Even':[20,30,40],'Odd':[35,45]}\n",
    "# step-1: import random\n",
    "# step-2: even_list,odd_list=[],[]\n",
    "# step-3: for loop 10 times\n",
    "# step-4: num=generate random number 10,100\n",
    "# step-5: if <condition>:\n",
    "# step-6: append the values in eve\n",
    "# step-7: else:\n",
    "# step-8: append the values in odd list\n",
    "# step-9: create the dictionary"
   ]
  },
  {
   "cell_type": "code",
   "execution_count": 62,
   "id": "c0f53976",
   "metadata": {},
   "outputs": [
    {
     "data": {
      "text/plain": [
       "{'Even': [94, 60, 70], 'Odd': [33, 61, 69, 99, 55, 57, 7]}"
      ]
     },
     "execution_count": 62,
     "metadata": {},
     "output_type": "execute_result"
    }
   ],
   "source": [
    "even=[]\n",
    "odd=[]\n",
    "dic={}\n",
    "import random\n",
    "for i in range(10):\n",
    "    num=random.randint(1,100)\n",
    "    if num%2==0:\n",
    "        even.append(num)\n",
    "    else:\n",
    "        odd.append(num)\n",
    "dic['Even']=even\n",
    "dic['Odd']=odd\n",
    "dic"
   ]
  },
  {
   "cell_type": "code",
   "execution_count": 69,
   "id": "cd808256",
   "metadata": {},
   "outputs": [
    {
     "data": {
      "text/plain": [
       "{'hello': 3,\n",
       " 'how': 4,\n",
       " 'are': 2,\n",
       " 'you,': 1,\n",
       " 'im': 1,\n",
       " 'good,': 1,\n",
       " 'what': 1,\n",
       " 'you': 1,\n",
       " 'doing': 1}"
      ]
     },
     "execution_count": 69,
     "metadata": {},
     "output_type": "execute_result"
    }
   ],
   "source": [
    "# word frequency\n",
    "s1='hello how how are you, hello how im good, hello how what are you doing'\n",
    "# {'hello':3,'how':4,......}\n",
    "# split the data\n",
    "l1=s1.split()\n",
    "l2=[]\n",
    "d1={}\n",
    "for i in l1:\n",
    "    if i not in l2:\n",
    "        d1[i]=l1.count(i)\n",
    "d1 \n",
    "    "
   ]
  },
  {
   "cell_type": "code",
   "execution_count": 71,
   "id": "f73df222",
   "metadata": {},
   "outputs": [
    {
     "data": {
      "text/plain": [
       "'values'"
      ]
     },
     "execution_count": 71,
     "metadata": {},
     "output_type": "execute_result"
    }
   ],
   "source": [
    "'clear',\n",
    "'copy',\n",
    "'fromkeys',\n",
    "'get',\n",
    "'items',\n",
    "'keys',\n",
    "'pop',\n",
    "'popitem',\n",
    "'setdefault',\n",
    "'update',\n",
    "'values'"
   ]
  },
  {
   "cell_type": "markdown",
   "id": "a52a73a0",
   "metadata": {},
   "source": [
    "keys - values - items"
   ]
  },
  {
   "cell_type": "code",
   "execution_count": 72,
   "id": "5b3e27d3",
   "metadata": {},
   "outputs": [
    {
     "data": {
      "text/plain": [
       "{'Ramesh': 20, 'Suresh': 25, 'Piyush': 27}"
      ]
     },
     "execution_count": 72,
     "metadata": {},
     "output_type": "execute_result"
    }
   ],
   "source": [
    "d1={'Ramesh':20,'Suresh':25,'Piyush':27}\n",
    "d1"
   ]
  },
  {
   "cell_type": "code",
   "execution_count": 73,
   "id": "de03cb7c",
   "metadata": {},
   "outputs": [
    {
     "data": {
      "text/plain": [
       "dict_keys(['Ramesh', 'Suresh', 'Piyush'])"
      ]
     },
     "execution_count": 73,
     "metadata": {},
     "output_type": "execute_result"
    }
   ],
   "source": [
    "d1.keys()"
   ]
  },
  {
   "cell_type": "code",
   "execution_count": 74,
   "id": "cf8297ba",
   "metadata": {},
   "outputs": [
    {
     "data": {
      "text/plain": [
       "dict_values([20, 25, 27])"
      ]
     },
     "execution_count": 74,
     "metadata": {},
     "output_type": "execute_result"
    }
   ],
   "source": [
    "d1.values()"
   ]
  },
  {
   "cell_type": "code",
   "execution_count": 75,
   "id": "2fce8584",
   "metadata": {},
   "outputs": [
    {
     "data": {
      "text/plain": [
       "dict_items([('Ramesh', 20), ('Suresh', 25), ('Piyush', 27)])"
      ]
     },
     "execution_count": 75,
     "metadata": {},
     "output_type": "execute_result"
    }
   ],
   "source": [
    "d1.items()"
   ]
  },
  {
   "cell_type": "code",
   "execution_count": 83,
   "id": "57e794e9",
   "metadata": {},
   "outputs": [
    {
     "data": {
      "text/plain": [
       "{'Ramesh': 20, 'Suresh': 25, 'Piyush': 27, 12: None, False: None}"
      ]
     },
     "execution_count": 83,
     "metadata": {},
     "output_type": "execute_result"
    }
   ],
   "source": [
    "d1.setdefault()\n",
    "d1"
   ]
  },
  {
   "cell_type": "code",
   "execution_count": null,
   "id": "0e29cd14",
   "metadata": {},
   "outputs": [],
   "source": []
  },
  {
   "cell_type": "code",
   "execution_count": null,
   "id": "027548d4",
   "metadata": {},
   "outputs": [],
   "source": []
  },
  {
   "cell_type": "code",
   "execution_count": null,
   "id": "5e705699",
   "metadata": {},
   "outputs": [],
   "source": []
  },
  {
   "cell_type": "code",
   "execution_count": null,
   "id": "72ef1a1c",
   "metadata": {},
   "outputs": [],
   "source": []
  },
  {
   "cell_type": "code",
   "execution_count": null,
   "id": "057a79dd",
   "metadata": {},
   "outputs": [],
   "source": []
  },
  {
   "cell_type": "code",
   "execution_count": null,
   "id": "7388723d",
   "metadata": {},
   "outputs": [],
   "source": []
  },
  {
   "cell_type": "code",
   "execution_count": null,
   "id": "83e94285",
   "metadata": {},
   "outputs": [],
   "source": []
  },
  {
   "cell_type": "code",
   "execution_count": null,
   "id": "ce463f50",
   "metadata": {},
   "outputs": [],
   "source": []
  },
  {
   "cell_type": "code",
   "execution_count": null,
   "id": "879ef549",
   "metadata": {},
   "outputs": [],
   "source": []
  },
  {
   "cell_type": "code",
   "execution_count": null,
   "id": "460241e7",
   "metadata": {},
   "outputs": [],
   "source": []
  },
  {
   "cell_type": "code",
   "execution_count": null,
   "id": "30ee65af",
   "metadata": {},
   "outputs": [],
   "source": []
  },
  {
   "cell_type": "code",
   "execution_count": null,
   "id": "b7d4e2de",
   "metadata": {},
   "outputs": [],
   "source": []
  },
  {
   "cell_type": "code",
   "execution_count": null,
   "id": "cd80da95",
   "metadata": {},
   "outputs": [],
   "source": []
  },
  {
   "cell_type": "code",
   "execution_count": null,
   "id": "d52165a5",
   "metadata": {},
   "outputs": [],
   "source": []
  },
  {
   "cell_type": "code",
   "execution_count": null,
   "id": "c27f2761",
   "metadata": {},
   "outputs": [],
   "source": []
  },
  {
   "cell_type": "code",
   "execution_count": null,
   "id": "892a9f1f",
   "metadata": {},
   "outputs": [],
   "source": []
  },
  {
   "cell_type": "code",
   "execution_count": null,
   "id": "05ffb6ab",
   "metadata": {},
   "outputs": [],
   "source": []
  },
  {
   "cell_type": "code",
   "execution_count": null,
   "id": "9176ff49",
   "metadata": {},
   "outputs": [],
   "source": []
  }
 ],
 "metadata": {
  "kernelspec": {
   "display_name": "Python 3 (ipykernel)",
   "language": "python",
   "name": "python3"
  },
  "language_info": {
   "codemirror_mode": {
    "name": "ipython",
    "version": 3
   },
   "file_extension": ".py",
   "mimetype": "text/x-python",
   "name": "python",
   "nbconvert_exporter": "python",
   "pygments_lexer": "ipython3",
   "version": "3.9.13"
  }
 },
 "nbformat": 4,
 "nbformat_minor": 5
}
